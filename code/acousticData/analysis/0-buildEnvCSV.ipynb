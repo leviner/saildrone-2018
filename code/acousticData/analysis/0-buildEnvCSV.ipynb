{
 "cells": [
  {
   "cell_type": "markdown",
   "metadata": {},
   "source": [
    "# Read Saildrone environmental netcdf files\n",
    "\n",
    "All of the files are too cumbersome, and I don't need most of the data in these netdf files, so I am going to just pull out all of the stuff I do need and shove it back into a csv file so I can run it all in pandas, just like my acoustic data"
   ]
  },
  {
   "cell_type": "code",
   "execution_count": 2,
   "metadata": {},
   "outputs": [],
   "source": [
    "import xarray as xr\n",
    "import pandas as pd\n",
    "import numpy as np\n",
    "from glob import glob\n",
    "from progressBar import log_progress"
   ]
  },
  {
   "cell_type": "code",
   "execution_count": 3,
   "metadata": {},
   "outputs": [],
   "source": [
    "filesEnv1022 = glob('../../../data/Env/*sd1022*.nc')\n",
    "filesEnv1023 = glob('../../../data/Env/*sd1023*.nc')"
   ]
  },
  {
   "cell_type": "code",
   "execution_count": 4,
   "metadata": {},
   "outputs": [
    {
     "data": {
      "text/html": [
       "<pre>&lt;xarray.Dataset&gt;\n",
       "Dimensions:                        (obs: 360, trajectory: 1)\n",
       "Coordinates:\n",
       "  * trajectory                     (trajectory) float32 1022.0\n",
       "    latitude                       (trajectory, obs) float64 ...\n",
       "    longitude                      (trajectory, obs) float64 ...\n",
       "    time                           (trajectory, obs) datetime64[ns] ...\n",
       "Dimensions without coordinates: obs\n",
       "Data variables:\n",
       "    SOG                            (trajectory, obs) float64 ...\n",
       "    COG                            (trajectory, obs) float64 ...\n",
       "    HDG                            (trajectory, obs) float64 ...\n",
       "    HDG_WING                       (trajectory, obs) float64 ...\n",
       "    ROLL                           (trajectory, obs) float64 ...\n",
       "    PITCH                          (trajectory, obs) float64 ...\n",
       "    WING_ANGLE                     (trajectory, obs) float64 ...\n",
       "    BARO_PRES_MEAN                 (trajectory, obs) float64 ...\n",
       "    BARO_PRES_STDDEV               (trajectory, obs) float64 ...\n",
       "    TEMP_AIR_MEAN                  (trajectory, obs) float64 ...\n",
       "    TEMP_AIR_STDDEV                (trajectory, obs) float64 ...\n",
       "    RH_MEAN                        (trajectory, obs) float64 ...\n",
       "    RH_STDDEV                      (trajectory, obs) float64 ...\n",
       "    PAR_AIR_MEAN                   (trajectory, obs) float64 ...\n",
       "    PAR_AIR_STDDEV                 (trajectory, obs) float64 ...\n",
       "    TEMP_IR_UNCOR_MEAN             (trajectory, obs) float64 ...\n",
       "    TEMP_IR_UNCOR_STDDEV           (trajectory, obs) float64 ...\n",
       "    UWND_MEAN                      (trajectory, obs) float64 ...\n",
       "    UWND_STDDEV                    (trajectory, obs) float64 ...\n",
       "    VWND_MEAN                      (trajectory, obs) float64 ...\n",
       "    VWND_STDDEV                    (trajectory, obs) float64 ...\n",
       "    WWND_MEAN                      (trajectory, obs) float64 ...\n",
       "    WWND_STDDEV                    (trajectory, obs) float64 ...\n",
       "    GUST_WND_MEAN                  (trajectory, obs) float64 ...\n",
       "    GUST_WND_STDDEV                (trajectory, obs) float64 ...\n",
       "    TEMP_CTD_MEAN                  (trajectory, obs) float64 ...\n",
       "    TEMP_CTD_STDDEV                (trajectory, obs) float64 ...\n",
       "    COND_MEAN                      (trajectory, obs) float64 ...\n",
       "    COND_STDDEV                    (trajectory, obs) float64 ...\n",
       "    SAL_MEAN                       (trajectory, obs) float64 ...\n",
       "    SAL_STDDEV                     (trajectory, obs) float64 ...\n",
       "    O2_RBR_CONC_MEAN               (trajectory, obs) float64 ...\n",
       "    O2_RBR_CONC_STDDEV             (trajectory, obs) float64 ...\n",
       "    O2_RBR_SAT_MEAN                (trajectory, obs) float64 ...\n",
       "    O2_RBR_SAT_STDDEV              (trajectory, obs) float64 ...\n",
       "    TEMP_O2_RBR_MEAN               (trajectory, obs) float64 ...\n",
       "    TEMP_O2_RBR_STDDEV             (trajectory, obs) float64 ...\n",
       "    O2_AANDERAA_CONC_UNCOR_MEAN    (trajectory, obs) float64 ...\n",
       "    O2_AANDERAA_CONC_UNCOR_STDDEV  (trajectory, obs) float64 ...\n",
       "    O2_AANDERAA_SAT_MEAN           (trajectory, obs) float64 ...\n",
       "    O2_AANDERAA_SAT_STDDEV         (trajectory, obs) float64 ...\n",
       "    TEMP_O2_AANDERAA_MEAN          (trajectory, obs) float64 ...\n",
       "    TEMP_O2_AANDERAA_STDDEV        (trajectory, obs) float64 ...\n",
       "    CHLOR_MEAN                     (trajectory, obs) float64 ...\n",
       "    CHLOR_STDDEV                   (trajectory, obs) float64 ...\n",
       "Attributes:\n",
       "    Conventions:               CF-1.6\n",
       "    netcdf_version:            4\n",
       "    Metadata_Conventions:      Unidata Dataset Discovery v1.3\n",
       "    featureType:               trajectory\n",
       "    cdm_data_type:             Trajectory\n",
       "    nodc_template_version:     NODC_NetCDF_Trajectory_Template_v2.0\n",
       "    standard_name_vocabulary:  CF-1.6, ACDD-1.3P\n",
       "    description:               Saildrone NetCDF format\n",
       "    creator_name:              Saildrone\n",
       "    platform:                  Saildrone\n",
       "    institution:               Saildrone\n",
       "    creator_email:             support@saildrone.com\n",
       "    creator_url:               http://saildrone.com/\n",
       "    date_created:              2018-08-02T22:04:19.836477Z\n",
       "    area:                      unassigned\n",
       "    title:                     arctic_2018_sd1022_2018-07-01T00:00:00.000Z-20...\n",
       "    summary:                   None\n",
       "    data_mode:                 realtime\n",
       "    drone_id:                  1022\n",
       "    request_id:                1192\n",
       "    interval:                  60.0\n",
       "    project:                   arctic_2018\n",
       "    geospatial_lat_min:        53.9448\n",
       "    geospatial_lat_max:        54.06816\n",
       "    geospatial_lat_units:      degrees_north\n",
       "    geospatial_lon_min:        -166.540992\n",
       "    geospatial_lon_max:        -166.51072\n",
       "    geospatial_lon_units:      degrees_east\n",
       "    time_coverage_start:       1530403200.0\n",
       "    time_coverage_end:         1530424740.0</pre>"
      ],
      "text/plain": [
       "<xarray.Dataset>\n",
       "Dimensions:                        (obs: 360, trajectory: 1)\n",
       "Coordinates:\n",
       "  * trajectory                     (trajectory) float32 1022.0\n",
       "    latitude                       (trajectory, obs) float64 ...\n",
       "    longitude                      (trajectory, obs) float64 ...\n",
       "    time                           (trajectory, obs) datetime64[ns] ...\n",
       "Dimensions without coordinates: obs\n",
       "Data variables:\n",
       "    SOG                            (trajectory, obs) float64 ...\n",
       "    COG                            (trajectory, obs) float64 ...\n",
       "    HDG                            (trajectory, obs) float64 ...\n",
       "    HDG_WING                       (trajectory, obs) float64 ...\n",
       "    ROLL                           (trajectory, obs) float64 ...\n",
       "    PITCH                          (trajectory, obs) float64 ...\n",
       "    WING_ANGLE                     (trajectory, obs) float64 ...\n",
       "    BARO_PRES_MEAN                 (trajectory, obs) float64 ...\n",
       "    BARO_PRES_STDDEV               (trajectory, obs) float64 ...\n",
       "    TEMP_AIR_MEAN                  (trajectory, obs) float64 ...\n",
       "    TEMP_AIR_STDDEV                (trajectory, obs) float64 ...\n",
       "    RH_MEAN                        (trajectory, obs) float64 ...\n",
       "    RH_STDDEV                      (trajectory, obs) float64 ...\n",
       "    PAR_AIR_MEAN                   (trajectory, obs) float64 ...\n",
       "    PAR_AIR_STDDEV                 (trajectory, obs) float64 ...\n",
       "    TEMP_IR_UNCOR_MEAN             (trajectory, obs) float64 ...\n",
       "    TEMP_IR_UNCOR_STDDEV           (trajectory, obs) float64 ...\n",
       "    UWND_MEAN                      (trajectory, obs) float64 ...\n",
       "    UWND_STDDEV                    (trajectory, obs) float64 ...\n",
       "    VWND_MEAN                      (trajectory, obs) float64 ...\n",
       "    VWND_STDDEV                    (trajectory, obs) float64 ...\n",
       "    WWND_MEAN                      (trajectory, obs) float64 ...\n",
       "    WWND_STDDEV                    (trajectory, obs) float64 ...\n",
       "    GUST_WND_MEAN                  (trajectory, obs) float64 ...\n",
       "    GUST_WND_STDDEV                (trajectory, obs) float64 ...\n",
       "    TEMP_CTD_MEAN                  (trajectory, obs) float64 ...\n",
       "    TEMP_CTD_STDDEV                (trajectory, obs) float64 ...\n",
       "    COND_MEAN                      (trajectory, obs) float64 ...\n",
       "    COND_STDDEV                    (trajectory, obs) float64 ...\n",
       "    SAL_MEAN                       (trajectory, obs) float64 ...\n",
       "    SAL_STDDEV                     (trajectory, obs) float64 ...\n",
       "    O2_RBR_CONC_MEAN               (trajectory, obs) float64 ...\n",
       "    O2_RBR_CONC_STDDEV             (trajectory, obs) float64 ...\n",
       "    O2_RBR_SAT_MEAN                (trajectory, obs) float64 ...\n",
       "    O2_RBR_SAT_STDDEV              (trajectory, obs) float64 ...\n",
       "    TEMP_O2_RBR_MEAN               (trajectory, obs) float64 ...\n",
       "    TEMP_O2_RBR_STDDEV             (trajectory, obs) float64 ...\n",
       "    O2_AANDERAA_CONC_UNCOR_MEAN    (trajectory, obs) float64 ...\n",
       "    O2_AANDERAA_CONC_UNCOR_STDDEV  (trajectory, obs) float64 ...\n",
       "    O2_AANDERAA_SAT_MEAN           (trajectory, obs) float64 ...\n",
       "    O2_AANDERAA_SAT_STDDEV         (trajectory, obs) float64 ...\n",
       "    TEMP_O2_AANDERAA_MEAN          (trajectory, obs) float64 ...\n",
       "    TEMP_O2_AANDERAA_STDDEV        (trajectory, obs) float64 ...\n",
       "    CHLOR_MEAN                     (trajectory, obs) float64 ...\n",
       "    CHLOR_STDDEV                   (trajectory, obs) float64 ...\n",
       "Attributes:\n",
       "    Conventions:               CF-1.6\n",
       "    netcdf_version:            4\n",
       "    Metadata_Conventions:      Unidata Dataset Discovery v1.3\n",
       "    featureType:               trajectory\n",
       "    cdm_data_type:             Trajectory\n",
       "    nodc_template_version:     NODC_NetCDF_Trajectory_Template_v2.0\n",
       "    standard_name_vocabulary:  CF-1.6, ACDD-1.3P\n",
       "    description:               Saildrone NetCDF format\n",
       "    creator_name:              Saildrone\n",
       "    platform:                  Saildrone\n",
       "    institution:               Saildrone\n",
       "    creator_email:             support@saildrone.com\n",
       "    creator_url:               http://saildrone.com/\n",
       "    date_created:              2018-08-02T22:04:19.836477Z\n",
       "    area:                      unassigned\n",
       "    title:                     arctic_2018_sd1022_2018-07-01T00:00:00.000Z-20...\n",
       "    summary:                   None\n",
       "    data_mode:                 realtime\n",
       "    drone_id:                  1022\n",
       "    request_id:                1192\n",
       "    interval:                  60.0\n",
       "    project:                   arctic_2018\n",
       "    geospatial_lat_min:        53.9448\n",
       "    geospatial_lat_max:        54.06816\n",
       "    geospatial_lat_units:      degrees_north\n",
       "    geospatial_lon_min:        -166.540992\n",
       "    geospatial_lon_max:        -166.51072\n",
       "    geospatial_lon_units:      degrees_east\n",
       "    time_coverage_start:       1530403200.0\n",
       "    time_coverage_end:         1530424740.0"
      ]
     },
     "execution_count": 4,
     "metadata": {},
     "output_type": "execute_result"
    }
   ],
   "source": [
    "xr.open_dataset(filesEnv1022[0]) # take a look at what is in one of the files"
   ]
  },
  {
   "cell_type": "code",
   "execution_count": null,
   "metadata": {},
   "outputs": [],
   "source": [
    "# we can see the details of the insturments and the metadata if we want\n",
    "display(ds.PAR_AIR_MEAN) \n",
    "display(ds.SAL_MEAN) "
   ]
  },
  {
   "cell_type": "code",
   "execution_count": 4,
   "metadata": {},
   "outputs": [],
   "source": [
    "def portal2pandas(files):    \n",
    "    lat = []\n",
    "    lon = []\n",
    "    # atmo variables\n",
    "    baro = []\n",
    "    tempAir = []\n",
    "    par = []\n",
    "    uWind = []\n",
    "    vWind = []\n",
    "    # ss variables\n",
    "    tempCTD = []\n",
    "    tempRBR = []\n",
    "    tempAand = []\n",
    "    sal = []\n",
    "    o2RBR = []\n",
    "    o2Aand = []\n",
    "    chlor = []\n",
    "    ct = 0\n",
    "    for file in log_progress(files,every=1):\n",
    "        try:\n",
    "            hold = xr.open_dataset(file)\n",
    "        except:\n",
    "            continue\n",
    "        if ct ==0:\n",
    "            dtime = hold.time.values[0]\n",
    "        else:\n",
    "            dtime = np.append(dtime,hold.time.values[0])\n",
    "        lat = np.append(lat,hold.latitude.values[0])\n",
    "        lon = np.append(lon,hold.longitude.values[0])\n",
    "        baro = np.append(baro,hold.BARO_PRES_MEAN.values[0])\n",
    "        tempAir = np.append(tempAir,hold.TEMP_AIR_MEAN.values[0])\n",
    "        par = np.append(par,hold.PAR_AIR_MEAN.values[0])\n",
    "        uWind = np.append(uWind,hold.UWND_MEAN.values[0])\n",
    "        vWind = np.append(vWind,hold.VWND_MEAN.values[0])\n",
    "        tempCTD = np.append(tempCTD,hold.TEMP_CTD_MEAN.values[0])\n",
    "        tempRBR = np.append(tempRBR,hold.TEMP_O2_RBR_MEAN.values[0])\n",
    "        tempAand = np.append(tempAand,hold.TEMP_O2_AANDERAA_MEAN.values[0])\n",
    "        sal = np.append(sal,hold.SAL_MEAN.values[0])\n",
    "        o2RBR = np.append(o2RBR,hold.O2_RBR_CONC_MEAN.values[0])\n",
    "        o2Aand =np.append(o2Aand,hold.O2_AANDERAA_CONC_UNCOR_MEAN.values[0])\n",
    "        chlor = np.append(chlor,hold.CHLOR_MEAN.values[0])\n",
    "        hold.close()\n",
    "        ct+=1\n",
    "\n",
    "    df = pd.DataFrame({'dtime':pd.to_datetime(dtime),'lat':lat,'lon':lon,'baro':baro,'tempAir':tempAir,'par':par,'uWind':uWind,'vWind':vWind,\n",
    "                       'tempCTD':tempCTD,'tempRBR':tempRBR,'tempAand':tempAand,\n",
    "                       'sal':sal,'o2RBR':o2RBR,'o2Aand':o2Aand,'chlor':chlor})\n",
    "\n",
    "    return df"
   ]
  },
  {
   "cell_type": "code",
   "execution_count": 40,
   "metadata": {},
   "outputs": [
    {
     "data": {
      "application/vnd.jupyter.widget-view+json": {
       "model_id": "4a16fa98d3a84b7abb5bc28bf2b11c99",
       "version_major": 2,
       "version_minor": 0
      },
      "text/plain": [
       "VBox(children=(HTML(value=''), IntProgress(value=0, max=618)))"
      ]
     },
     "metadata": {},
     "output_type": "display_data"
    }
   ],
   "source": [
    "df1022 = portal2pandas(filesEnv1022)"
   ]
  },
  {
   "cell_type": "code",
   "execution_count": 122,
   "metadata": {},
   "outputs": [],
   "source": [
    "df1022.to_csv('processingFiles/Env1022.csv')"
   ]
  },
  {
   "cell_type": "code",
   "execution_count": 125,
   "metadata": {},
   "outputs": [
    {
     "data": {
      "application/vnd.jupyter.widget-view+json": {
       "model_id": "9ea1653b8b094816839fe5ae786f9b94",
       "version_major": 2,
       "version_minor": 0
      },
      "text/plain": [
       "VBox(children=(HTML(value=''), IntProgress(value=0, max=619)))"
      ]
     },
     "metadata": {},
     "output_type": "display_data"
    }
   ],
   "source": [
    "df1023 = portal2pandas(filesEnv1023)"
   ]
  },
  {
   "cell_type": "code",
   "execution_count": 126,
   "metadata": {},
   "outputs": [],
   "source": [
    "df1023.to_csv('processingFilesEnv1023.csv')"
   ]
  }
 ],
 "metadata": {
  "kernelspec": {
   "display_name": "Python 3",
   "language": "python",
   "name": "python3"
  },
  "language_info": {
   "codemirror_mode": {
    "name": "ipython",
    "version": 3
   },
   "file_extension": ".py",
   "mimetype": "text/x-python",
   "name": "python",
   "nbconvert_exporter": "python",
   "pygments_lexer": "ipython3",
   "version": "3.7.4"
  }
 },
 "nbformat": 4,
 "nbformat_minor": 4
}
