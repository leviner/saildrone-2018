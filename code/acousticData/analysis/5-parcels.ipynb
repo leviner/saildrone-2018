{
 "cells": [
  {
   "cell_type": "markdown",
   "metadata": {},
   "source": [
    "# OceanParcels\n",
    "## Run Model"
   ]
  },
  {
   "cell_type": "code",
   "execution_count": 2,
   "metadata": {},
   "outputs": [],
   "source": [
    "import xarray as xr\n",
    "import pandas as pd\n",
    "from parcels import FieldSet, ParticleSet, Variable, JITParticle, AdvectionRK4, plotTrajectoriesFile, ErrorCode\n",
    "import numpy as np\n",
    "import datetime\n",
    "from operator import attrgetter\n",
    "from matplotlib import pyplot as plt"
   ]
  },
  {
   "cell_type": "code",
   "execution_count": 5,
   "metadata": {},
   "outputs": [],
   "source": [
    "df = xr.open_mfdataset('../../../data/Hycom/*.nc',decode_times=False)# all of our HYCOM data\n",
    "dfGrid = pd.read_pickle('processingFiles/dfS1Grid.pkl') # the grid from the first large scale survey which we will use as seeding points"
   ]
  },
  {
   "cell_type": "code",
   "execution_count": 6,
   "metadata": {},
   "outputs": [],
   "source": [
    "# If a particle goes \"out of bounds\", delete it instead of stopping the code\n",
    "def DeleteParticle(particle, fieldset, time):\n",
    "    particle.delete()\n",
    "    \n",
    "\n",
    "# Create a particle that can measure the distance it has gone instead of just counting lats/lons\n",
    "class DistParticle(JITParticle):  # Define a new particle class that contains three extra variables\n",
    "    distance = Variable('distance', initial=0., dtype=np.float32)  # the distance travelled\n",
    "    prev_lon = Variable('prev_lon', dtype=np.float32, to_write=False,\n",
    "                        initial=attrgetter('lon'))  # the previous longitude\n",
    "    prev_lat = Variable('prev_lat', dtype=np.float32, to_write=False,\n",
    "                        initial=attrgetter('lat'))  # the previous latitude.\n",
    "    \n",
    "def TotalDistance(particle, fieldset, time):\n",
    "    # Calculate the distance in latitudinal direction (using 1.11e2 kilometer per degree latitude)\n",
    "    lat_dist = (particle.lat - particle.prev_lat) * 1.11e2\n",
    "    # Calculate the distance in longitudinal direction, using cosine(latitude) - spherical earth\n",
    "    lon_dist = (particle.lon - particle.prev_lon) * 1.11e2 * math.cos(particle.lat * math.pi / 180)\n",
    "    # Calculate the total Euclidean distance travelled by the particle\n",
    "    particle.distance += math.sqrt(math.pow(lon_dist, 2) + math.pow(lat_dist, 2))\n",
    "\n",
    "    particle.prev_lon = particle.lon  # Set the stored values for next iteration.\n",
    "    particle.prev_lat = particle.lat\n",
    "    \n",
    "    \n",
    "def myround(x, base=3):\n",
    "    return base * round(x/base)"
   ]
  },
  {
   "cell_type": "markdown",
   "metadata": {},
   "source": [
    "Edit the box below for the parameters (depth, filename, run days, interval) and run."
   ]
  },
  {
   "cell_type": "code",
   "execution_count": 9,
   "metadata": {},
   "outputs": [
    {
     "name": "stderr",
     "output_type": "stream",
     "text": [
      "INFO: Compiled DistParticleAdvectionRK4TotalDistance ==> C:\\Users\\Robert\\AppData\\Local\\Temp\\parcels-tmp\\d6cfef8ecf230b30a7185de82076706f_0.dll\n",
      "INFO: Temporary output files are stored in out-SCBTHKVN.\n",
      "INFO: You can use \"parcels_convert_npydir_to_netcdf out-SCBTHKVN\" to convert these to a NetCDF file during the run.\n",
      "100% (5184000.0 of 5184000.0) |##########| Elapsed Time: 1:25:58 Time:  1:25:58\n"
     ]
    }
   ],
   "source": [
    "outputFileNamePrefix = 'processingFiles/60Day3Hour30MeterAll'  # Set the name for the files\n",
    "lons = dfGrid.lonC.values+360   # Set the lon for grid\n",
    "lats = dfGrid.latC.values               # Set the lat for grid\n",
    "mDepth = np.copy(lons)\n",
    "mDepth[:] = 30                              # Set the depth to model\n",
    "\n",
    "filenames = {'U': df,\n",
    "             'V': df}\n",
    "variables = {'U': 'water_u',\n",
    "             'V': 'water_v'}\n",
    "dimensions = {'lat': 'lat',\n",
    "              'lon': 'lon',\n",
    "              'time': 'time',\n",
    "             'depth': 'depth'}\n",
    "\n",
    "fieldset = FieldSet.from_xarray_dataset(df, variables, dimensions,allow_time_extrapolation=True)\n",
    "pset = ParticleSet(fieldset=fieldset, pclass=DistParticle,lon=lons,lat=lats, depth = mDepth)\n",
    "k_dist = pset.Kernel(TotalDistance)\n",
    "pset.execute(AdvectionRK4 + k_dist,\n",
    "             runtime=datetime.timedelta(days=60),   # SET DAYS\n",
    "             dt=datetime.timedelta(hours=3),        # SET HOURS\n",
    "             output_file=pset.ParticleFile(name=outputFileNamePrefix+\".nc\", \n",
    "             outputdt=datetime.timedelta(hours=3)),recovery={ErrorCode.ErrorOutOfBounds: DeleteParticle})"
   ]
  }
 ],
 "metadata": {
  "kernelspec": {
   "display_name": "Python 3",
   "language": "python",
   "name": "python3"
  },
  "language_info": {
   "codemirror_mode": {
    "name": "ipython",
    "version": 3
   },
   "file_extension": ".py",
   "mimetype": "text/x-python",
   "name": "python",
   "nbconvert_exporter": "python",
   "pygments_lexer": "ipython3",
   "version": "3.7.4"
  }
 },
 "nbformat": 4,
 "nbformat_minor": 4
}
