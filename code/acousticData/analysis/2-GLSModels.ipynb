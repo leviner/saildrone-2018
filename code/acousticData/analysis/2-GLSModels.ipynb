{
 "cells": [
  {
   "cell_type": "markdown",
   "metadata": {},
   "source": [
    "# Index Day/Night - Run in python\n",
    "This only needs to be done once"
   ]
  },
  {
   "cell_type": "code",
   "execution_count": 1,
   "metadata": {},
   "outputs": [],
   "source": [
    "import pandas as pd\n",
    "import matplotlib.pyplot as plt\n",
    "from mpl_toolkits import mplot3d\n",
    "import numpy as np\n",
    "import cmocean\n",
    "import warnings\n",
    "from matplotlib import rcParams\n",
    "from mpl_toolkits.axes_grid1 import make_axes_locatable\n",
    "warnings.filterwarnings('ignore')\n",
    "#Pickled acoustic data\n",
    "df1022 = pd.read_pickle('processingFiles/df1022.pkl')\n",
    "df1023 = pd.read_pickle('processingFiles/df1023.pkl')\n",
    "dfMLS1 = pd.read_pickle('processingFiles/dfMLS1.pkl')\n",
    "dfMLS2 = pd.read_pickle('processingFiles/dfMLS2.pkl')\n",
    "dfMLS3 = pd.read_pickle('processingFiles/dfMLS3.pkl')\n",
    "dfMLS4 = pd.read_pickle('processingFiles/dfMLS4.pkl')\n",
    "# ENV data files\n",
    "dfEnv1022 = pd.read_csv('processingFiles/Env1022.csv')\n",
    "dfEnv1022.dtime = pd.to_datetime(dfEnv1022.dtime)\n",
    "dfEnv1023 = pd.read_csv('processingFiles/Env1023.csv')\n",
    "dfEnv1023.dtime = pd.to_datetime(dfEnv1023.dtime)\n",
    "def combineEnvAcoustic(dfEnv, dfAcoustic):\n",
    "    dfEnv.dtime = pd.to_datetime(dfEnv.dtime)\n",
    "    dfEnv = dfEnv.sort_values('dtime')\n",
    "    dfEnv = dfEnv.set_index('dtime')\n",
    "\n",
    "    dfAcoustic = dfAcoustic.sort_values('datetime')\n",
    "    dfAcoustic = dfAcoustic.set_index('datetime')\n",
    "\n",
    "    df = dfEnv.reindex(dfAcoustic.index, method='nearest')\n",
    "    df = df.merge(dfAcoustic,on='datetime')\n",
    "    return df\n",
    "df1022All= combineEnvAcoustic(dfEnv1022, df1022)\n",
    "df1023All= combineEnvAcoustic(dfEnv1023, df1023)\n",
    "dfSurvey1All = df1022All[(df1022All.index > '07-20-2018') & (df1022All.index < '08-21-2018') ]\n",
    "dfSurvey1All.name = 'First Complete Survey'\n",
    "\n",
    "df1023CS2 = df1023All[(df1023All.index > '08-24-2018 15:00:00') & (df1023All.index < '09-07-2018')]\n",
    "df1022CS2 = df1022All[(df1022All.index > '08-25-2018') & (df1022All.index < '09-11-2018 22:00:00') ]\n",
    "dfSurvey2All = pd.concat([df1023CS2, df1022CS2])\n",
    "dfSurvey2All.name = 'Second Complete Survey'\n",
    "dfEnvMLS1 = dfEnv1023[(dfEnv1023.dtime > '07-20-2018 20:00:00') & (dfEnv1023.dtime < '08-04-2018 00:00:00')]\n",
    "dfEnvMLS1.name = 'MLS-1'\n",
    "dfEnvMLS2 = dfEnv1022[(dfEnv1022.dtime > '07-23-2018 20:00:00') & (dfEnv1022.dtime < '08-13-2018 00:00:00')]\n",
    "dfEnvMLS2.name = 'MLS-2'\n",
    "dfEnvMLS3 = pd.concat([dfEnv1023[(dfEnv1023.dtime > '08-13-2018 15:00:00') & (dfEnv1023.dtime < '08-16-2018 20:00:00')], dfEnv1022[(dfEnv1022.dtime > '08-22-2018 00:00:00') & (dfEnv1022.dtime < '08-29-2018 00:00:00')]])\n",
    "dfEnvMLS3.name = 'MLS-3'\n",
    "dfEnvMLS4 = dfEnv1023[(dfEnv1023.dtime > '08-30-2018 20:00:00') & (dfEnv1023.dtime < '09-11-2018 17:00:00')]\n",
    "dfEnvMLS4.name = 'MLS-4'\n",
    "\n",
    "\n",
    "df1022All= combineEnvAcoustic(dfEnvMLS1, dfMLS1)\n",
    "test = df1022All.resample('H').mean()\n",
    "test['day'] =  test.par > 10\n",
    "test['survey'] = [1 for i in range(len(test))]\n",
    "csvMLS1 = test[['mwd','day','survey']]\n",
    "csvMLS1['hour'] = [i for i in range(len(csvMLS1))]\n",
    "df1022All= combineEnvAcoustic(dfEnvMLS2, dfMLS2)\n",
    "test = df1022All.resample('H').mean()\n",
    "test['day'] =  test.par > 10\n",
    "test['survey'] = [2 for i in range(len(test))]\n",
    "csvMLS2 = test[['mwd','day','survey']]\n",
    "csvMLS2['hour'] = [i for i in range(len(csvMLS2))]\n",
    "df1022All= combineEnvAcoustic(dfEnvMLS3, dfMLS3)\n",
    "test = df1022All.resample('H').mean()\n",
    "test['day'] =  test.par > 10\n",
    "test['survey'] = [3 for i in range(len(test))]\n",
    "csvMLS3 = test[['mwd','day','survey']]\n",
    "csvMLS3['hour'] = [i for i in range(len(csvMLS3))]\n",
    "df1022All= combineEnvAcoustic(dfEnvMLS4, dfMLS4)\n",
    "test = df1022All.resample('H').mean()\n",
    "test['day'] =  test.par > 10\n",
    "test['survey'] = [4 for i in range(len(test))]\n",
    "csvMLS4 = test[['mwd','day','survey']]\n",
    "csvMLS4['hour'] = [i for i in range(len(csvMLS4))]\n",
    "                   \n",
    "csvAll = pd.concat([csvMLS1,csvMLS2,csvMLS3,csvMLS4])\n",
    "csvAll['julian']= csvAll.index.to_julian_date() \n",
    "csvAll.julian = csvAll.julian-pd.to_datetime('2017-12-31').to_julian_date()\n",
    "csvAll.day = csvAll.day.astype(int)\n",
    "csvAll.julian = csvAll.julian.astype(float)\n",
    "csvAll.to_csv('processingFiles/daynight.csv')"
   ]
  },
  {
   "cell_type": "markdown",
   "metadata": {},
   "source": [
    "# Switch to R"
   ]
  },
  {
   "cell_type": "code",
   "execution_count": 1,
   "metadata": {},
   "outputs": [
    {
     "name": "stderr",
     "output_type": "stream",
     "text": [
      "Warning message:\n",
      "\"package 'nlme' was built under R version 3.6.3\"Warning message:\n",
      "\"package 'mgcv' was built under R version 3.6.3\"This is mgcv 1.8-32. For overview type 'help(\"mgcv-package\")'.\n",
      "Warning message:\n",
      "\"package 'dplyr' was built under R version 3.6.3\"\n",
      "Attaching package: 'dplyr'\n",
      "\n",
      "The following object is masked from 'package:nlme':\n",
      "\n",
      "    collapse\n",
      "\n",
      "The following objects are masked from 'package:stats':\n",
      "\n",
      "    filter, lag\n",
      "\n",
      "The following objects are masked from 'package:base':\n",
      "\n",
      "    intersect, setdiff, setequal, union\n",
      "\n"
     ]
    },
    {
     "data": {
      "text/plain": [
       "Generalized least squares fit by REML\n",
       "  Model: mwd ~ day * julian \n",
       "  Data: df2 \n",
       "      AIC      BIC   logLik\n",
       "  5067.24 5096.973 -2527.62\n",
       "\n",
       "Correlation Structure: Continuous AR(1)\n",
       " Formula: ~julian \n",
       " Parameter estimate(s):\n",
       "      Phi \n",
       "0.1060106 \n",
       "\n",
       "Coefficients:\n",
       "                 Value Std.Error   t-value p-value\n",
       "(Intercept) -14.509072 12.712467 -1.141326  0.2540\n",
       "day          -9.126326  4.196104 -2.174952  0.0299\n",
       "julian        0.154855  0.055644  2.782981  0.0055\n",
       "day:julian    0.045896  0.018375  2.497812  0.0126\n",
       "\n",
       " Correlation: \n",
       "           (Intr) day    julian\n",
       "day        -0.247              \n",
       "julian     -0.997  0.244       \n",
       "day:julian  0.244 -0.997 -0.242\n",
       "\n",
       "Standardized residuals:\n",
       "        Min          Q1         Med          Q3         Max \n",
       "-2.29881488 -0.65086763  0.04191786  0.61434303  3.21111194 \n",
       "\n",
       "Residual standard error: 6.41467 \n",
       "Degrees of freedom: 1053 total; 1049 residual"
      ]
     },
     "metadata": {},
     "output_type": "display_data"
    }
   ],
   "source": [
    "df<-read.csv('processingFiles/daynight.csv')\n",
    "df <- df[complete.cases(df),]\n",
    "library(nlme)\n",
    "library(mgcv)\n",
    "library(dplyr)\n",
    "df2 = distinct(df,julian,.keep_all=TRUE)\n",
    "mod1<-gls(mwd ~ day*julian, data=df2, correl = corCAR1(form = ~julian)) # whether I use the survey as cetegorical or continuous\n",
    "summary(mod1)"
   ]
  },
  {
   "cell_type": "markdown",
   "metadata": {},
   "source": [
    "# Spatial model - back to python\n",
    "This only needs to be done once to make csv versions of the dataframes for use in R."
   ]
  },
  {
   "cell_type": "code",
   "execution_count": 1,
   "metadata": {},
   "outputs": [],
   "source": [
    "import pandas as pd\n",
    "df = pd.read_pickle('processingFiles/dfMLS1Grid.pkl')\n",
    "df.to_csv('processingFiles/MLS1Grid.csv')\n",
    "df = pd.read_pickle('processingFiles/dfMLS2Grid.pkl')\n",
    "df.to_csv('processingFiles/MLS2Grid.csv')\n",
    "df = pd.read_pickle('processingFiles/dfMLS3Grid.pkl')\n",
    "df.to_csv('processingFiles/MLS3Grid.csv')\n",
    "df = pd.read_pickle('processingFiles/dfMLS4Grid.pkl')\n",
    "df.to_csv('processingFiles/MLS4Grid.csv')\n",
    "df = pd.read_pickle('processingFiles/dfS1Grid.pkl')\n",
    "df.to_csv('processingFiles/S1Grid.csv')\n",
    "df = pd.read_pickle('processingFiles/dfS2Grid.pkl')\n",
    "df.to_csv('processingFiles/S2Grid.csv')\n"
   ]
  },
  {
   "cell_type": "markdown",
   "metadata": {},
   "source": [
    "## R part"
   ]
  },
  {
   "cell_type": "code",
   "execution_count": 1,
   "metadata": {},
   "outputs": [
    {
     "name": "stderr",
     "output_type": "stream",
     "text": [
      "Warning message:\n",
      "\"package 'nlme' was built under R version 3.6.3\"Warning message:\n",
      "\"package 'mgcv' was built under R version 3.6.3\"This is mgcv 1.8-32. For overview type 'help(\"mgcv-package\")'.\n"
     ]
    }
   ],
   "source": [
    "library(nlme)\n",
    "library(mgcv)\n",
    "library(mapproj)\n",
    "library(sp)\n",
    "# Read in all of the csv files and combine into small survey and big survey dataframes\n",
    "df1<-read.csv('processingFiles/MLS1Grid.csv')\n",
    "df1$survey=factor(1)\n",
    "df2<-read.csv('processingFiles/MLS2Grid.csv')\n",
    "df2$survey=factor(2)\n",
    "df3<-read.csv('processingFiles/MLS3Grid.csv')\n",
    "df3$survey=factor(3)\n",
    "df4<-read.csv('processingFiles/MLS4Grid.csv')\n",
    "df4$survey=factor(4)\n",
    "dfAllSmall <- rbind(df1, df2,df3,df4)\n",
    "df1<-read.csv('processingFiles/S1Grid.csv')\n",
    "df1$survey=factor(1)\n",
    "df2<-read.csv('processingFiles/S2Grid.csv')\n",
    "df2$survey=factor(2)\n",
    "dfAllLarge <- rbind(df1, df2)"
   ]
  },
  {
   "cell_type": "code",
   "execution_count": 3,
   "metadata": {},
   "outputs": [
    {
     "data": {
      "text/plain": [
       "Generalized least squares fit by REML\n",
       "  Model: nasc ~ survey \n",
       "  Data: dfAll \n",
       "       AIC      BIC    logLik\n",
       "  2742.455 2759.214 -1366.227\n",
       "\n",
       "Correlation Structure: Gaussian spatial correlation\n",
       " Formula: ~x + y | survey \n",
       " Parameter estimate(s):\n",
       "      range      nugget \n",
       "0.006317752 0.183455260 \n",
       "\n",
       "Coefficients:\n",
       "                Value Std.Error  t-value p-value\n",
       "(Intercept) 144.31036  37.37241 3.861414  0.0001\n",
       "survey2      44.68904  50.54258 0.884186  0.3776\n",
       "\n",
       " Correlation: \n",
       "        (Intr)\n",
       "survey2 -0.739\n",
       "\n",
       "Standardized residuals:\n",
       "       Min         Q1        Med         Q3        Max \n",
       "-0.8960460 -0.6296562 -0.3677490  0.4097582  5.2994832 \n",
       "\n",
       "Residual standard error: 202.1092 \n",
       "Degrees of freedom: 213 total; 211 residual"
      ]
     },
     "metadata": {},
     "output_type": "display_data"
    },
    {
     "data": {
      "image/png": "[encoded data removed]",
      "text/plain": [
       "plot without title"
      ]
     },
     "metadata": {},
     "output_type": "display_data"
    }
   ],
   "source": [
    "# Let's fit a model for the large scale survey\n",
    "dfAll <- dfAllLarge\n",
    "f.lm <- lm(nasc ~ survey, data=dfAll)\n",
    "x <- mapproject(dfAll$lonC, dfAll$latC, \"albers\", param=c(min(dfAll$latC), max(dfAll$latC)))\n",
    "dfAll$x <- x$x\n",
    "dfAll$y <- x$y\n",
    "f.Gaus <-gls(nasc ~ survey, data=dfAll, correl=corGaus(form= ~ x+y | survey, nugget=T))\n",
    "summary(f.Gaus)\n",
    "plot(Variogram(f.Gaus))"
   ]
  },
  {
   "cell_type": "code",
   "execution_count": 6,
   "metadata": {},
   "outputs": [
    {
     "data": {
      "text/plain": [
       "Generalized least squares fit by REML\n",
       "  Model: nasc ~ survey \n",
       "  Data: dfAll \n",
       "       AIC      BIC  logLik\n",
       "  2753.799 2776.992 -1369.9\n",
       "\n",
       "Correlation Structure: Gaussian spatial correlation\n",
       " Formula: ~x + y | survey \n",
       " Parameter estimate(s):\n",
       "      range      nugget \n",
       "0.004882934 0.133734959 \n",
       "\n",
       "Coefficients:\n",
       "                Value Std.Error   t-value p-value\n",
       "(Intercept) 197.59450  53.76396  3.675222  0.0003\n",
       "survey2     -20.22359  76.68587 -0.263720  0.7923\n",
       "survey3      84.01316  79.94474  1.050890  0.2946\n",
       "survey4     172.43467  80.34524  2.146172  0.0330\n",
       "\n",
       " Correlation: \n",
       "        (Intr) survy2 survy3\n",
       "survey2 -0.701              \n",
       "survey3 -0.673  0.471       \n",
       "survey4 -0.669  0.469  0.450\n",
       "\n",
       "Standardized residuals:\n",
       "       Min         Q1        Med         Q3        Max \n",
       "-1.3105109 -0.6045354 -0.2688712  0.5383665  3.4828091 \n",
       "\n",
       "Residual standard error: 255.5537 \n",
       "Degrees of freedom: 207 total; 203 residual"
      ]
     },
     "metadata": {},
     "output_type": "display_data"
    },
    {
     "data": {
      "text/html": [
       "<table>\n",
       "<caption>A anova.lme: 2 × 3</caption>\n",
       "<thead>\n",
       "\t<tr><th></th><th scope=col>numDF</th><th scope=col>F-value</th><th scope=col>p-value</th></tr>\n",
       "\t<tr><th></th><th scope=col>&lt;int&gt;</th><th scope=col>&lt;dbl&gt;</th><th scope=col>&lt;dbl&gt;</th></tr>\n",
       "</thead>\n",
       "<tbody>\n",
       "\t<tr><th scope=row>(Intercept)</th><td>1</td><td>78.051057</td><td>4.782569e-16</td></tr>\n",
       "\t<tr><th scope=row>survey</th><td>3</td><td> 2.347006</td><td>7.387992e-02</td></tr>\n",
       "</tbody>\n",
       "</table>\n"
      ],
      "text/latex": [
       "A anova.lme: 2 × 3\n",
       "\\begin{tabular}{r|lll}\n",
       "  & numDF & F-value & p-value\\\\\n",
       "  & <int> & <dbl> & <dbl>\\\\\n",
       "\\hline\n",
       "\t(Intercept) & 1 & 78.051057 & 4.782569e-16\\\\\n",
       "\tsurvey & 3 &  2.347006 & 7.387992e-02\\\\\n",
       "\\end{tabular}\n"
      ],
      "text/markdown": [
       "\n",
       "A anova.lme: 2 × 3\n",
       "\n",
       "| <!--/--> | numDF &lt;int&gt; | F-value &lt;dbl&gt; | p-value &lt;dbl&gt; |\n",
       "|---|---|---|---|\n",
       "| (Intercept) | 1 | 78.051057 | 4.782569e-16 |\n",
       "| survey | 3 |  2.347006 | 7.387992e-02 |\n",
       "\n"
      ],
      "text/plain": [
       "            numDF F-value   p-value     \n",
       "(Intercept) 1     78.051057 4.782569e-16\n",
       "survey      3      2.347006 7.387992e-02"
      ]
     },
     "metadata": {},
     "output_type": "display_data"
    },
    {
     "data": {
      "image/png": "[encoded data removed]",
      "text/plain": [
       "plot without title"
      ]
     },
     "metadata": {},
     "output_type": "display_data"
    }
   ],
   "source": [
    "# now we can fit the model for the small scale survey\n",
    "dfAll <- dfAllSmall\n",
    "f.lm <- lm(nasc ~ survey, data=dfAll)\n",
    "x <- mapproject(dfAll$lonC, dfAll$latC, \"albers\", param=c(min(dfAll$latC), max(dfAll$latC)))\n",
    "dfAll$x <- x$x\n",
    "dfAll$y <- x$y\n",
    "f.Gaus <-gls(nasc ~ survey, data=dfAll, correl=corGaus(form= ~ x+y | survey, nugget=T))\n",
    "summary(f.Gaus)\n",
    "plot(Variogram(f.Gaus))\n",
    "anova(f.Gaus)"
   ]
  },
  {
   "cell_type": "markdown",
   "metadata": {},
   "source": [
    "## TargetStrength"
   ]
  },
  {
   "cell_type": "code",
   "execution_count": 68,
   "metadata": {},
   "outputs": [],
   "source": [
    "library(nlme)\n",
    "library(mgcv)\n",
    "library(mapproj)\n",
    "library(sp)\n",
    "# Read in all of the csv files and combine into small survey and big survey dataframes\n",
    "df1<-read.csv('processingFiles/gridTS1.csv')\n",
    "df1$survey=factor(1)\n",
    "df2<-read.csv('processingFiles/gridTS2.csv')\n",
    "df2$survey=factor(2)\n",
    "df3<-read.csv('processingFiles/gridTS3.csv')\n",
    "df3$survey=factor(3)\n",
    "df4<-read.csv('processingFiles/gridTS4.csv')\n",
    "df4$survey=factor(4)\n",
    "dfAllSmall <- rbind(df1, df2,df3,df4)"
   ]
  },
  {
   "cell_type": "code",
   "execution_count": 78,
   "metadata": {},
   "outputs": [],
   "source": []
  },
  {
   "cell_type": "code",
   "execution_count": 86,
   "metadata": {},
   "outputs": [
    {
     "data": {
      "text/plain": [
       "Generalized least squares fit by REML\n",
       "  Model: ts ~ survey \n",
       "  Data: dfAll \n",
       "        AIC       BIC   logLik\n",
       "  -3736.011 -3714.662 1875.005\n",
       "\n",
       "Correlation Structure: Gaussian spatial correlation\n",
       " Formula: ~x + y | survey \n",
       " Parameter estimate(s):\n",
       "       range       nugget \n",
       "2.427326e-03 3.174721e-07 \n",
       "\n",
       "Coefficients:\n",
       "                   Value    Std.Error  t-value p-value\n",
       "(Intercept) 1.971077e-06 2.670117e-07 7.381987  0.0000\n",
       "survey2     2.988188e-07 3.776115e-07 0.791339  0.4299\n",
       "survey3     8.959633e-07 3.776115e-07 2.372712  0.0189\n",
       "survey4     2.417314e-06 3.776115e-07 6.401589  0.0000\n",
       "\n",
       " Correlation: \n",
       "        (Intr) survy2 survy3\n",
       "survey2 -0.707              \n",
       "survey3 -0.707  0.500       \n",
       "survey4 -0.707  0.500  0.500\n",
       "\n",
       "Standardized residuals:\n",
       "        Min          Q1         Med          Q3         Max \n",
       "-1.72407795 -0.47611423 -0.08770083  0.32899287  6.75361780 \n",
       "\n",
       "Residual standard error: 1.434059e-06 \n",
       "Degrees of freedom: 160 total; 156 residual"
      ]
     },
     "metadata": {},
     "output_type": "display_data"
    },
    {
     "data": {
      "text/html": [
       "<table>\n",
       "<caption>A anova.lme: 2 × 3</caption>\n",
       "<thead>\n",
       "\t<tr><th></th><th scope=col>numDF</th><th scope=col>F-value</th><th scope=col>p-value</th></tr>\n",
       "\t<tr><th></th><th scope=col>&lt;int&gt;</th><th scope=col>&lt;dbl&gt;</th><th scope=col>&lt;dbl&gt;</th></tr>\n",
       "</thead>\n",
       "<tbody>\n",
       "\t<tr><th scope=row>(Intercept)</th><td>1</td><td>463.45061</td><td>1.425477e-48</td></tr>\n",
       "\t<tr><th scope=row>survey</th><td>3</td><td> 16.24064</td><td>3.092523e-09</td></tr>\n",
       "</tbody>\n",
       "</table>\n"
      ],
      "text/latex": [
       "A anova.lme: 2 × 3\n",
       "\\begin{tabular}{r|lll}\n",
       "  & numDF & F-value & p-value\\\\\n",
       "  & <int> & <dbl> & <dbl>\\\\\n",
       "\\hline\n",
       "\t(Intercept) & 1 & 463.45061 & 1.425477e-48\\\\\n",
       "\tsurvey & 3 &  16.24064 & 3.092523e-09\\\\\n",
       "\\end{tabular}\n"
      ],
      "text/markdown": [
       "\n",
       "A anova.lme: 2 × 3\n",
       "\n",
       "| <!--/--> | numDF &lt;int&gt; | F-value &lt;dbl&gt; | p-value &lt;dbl&gt; |\n",
       "|---|---|---|---|\n",
       "| (Intercept) | 1 | 463.45061 | 1.425477e-48 |\n",
       "| survey | 3 |  16.24064 | 3.092523e-09 |\n",
       "\n"
      ],
      "text/plain": [
       "            numDF F-value   p-value     \n",
       "(Intercept) 1     463.45061 1.425477e-48\n",
       "survey      3      16.24064 3.092523e-09"
      ]
     },
     "metadata": {},
     "output_type": "display_data"
    },
    {
     "data": {
      "image/png": "[encoded data removed]",
      "text/plain": [
       "plot without title"
      ]
     },
     "metadata": {},
     "output_type": "display_data"
    }
   ],
   "source": [
    "dfAll <- dfAllSmall\n",
    "f.lm <- lm(ts ~ survey, data=dfAll)\n",
    "x <- mapproject(dfAll$lonC, dfAll$latC, \"albers\", param=c(min(dfAll$latC), max(dfAll$latC)))\n",
    "dfAll$x <- x$x\n",
    "dfAll$y <- x$y\n",
    "f.Gaus <-gls(ts ~ survey, data=dfAll, correl=corGaus(form= ~ x+y | survey, nugget=T))\n",
    "summary(f.Gaus)\n",
    "plot(Variogram(f.Gaus))\n",
    "anova(f.Gaus)"
   ]
  },
  {
   "cell_type": "code",
   "execution_count": 64,
   "metadata": {},
   "outputs": [
    {
     "data": {
      "text/plain": [
       "Generalized least squares fit by REML\n",
       "  Model: ts ~ survey \n",
       "  Data: dfAll \n",
       "        AIC       BIC   logLik\n",
       "  -3736.011 -3714.662 1875.005\n",
       "\n",
       "Correlation Structure: Gaussian spatial correlation\n",
       " Formula: ~x + y | survey \n",
       " Parameter estimate(s):\n",
       "       range       nugget \n",
       "2.427326e-03 3.174721e-07 \n",
       "\n",
       "Coefficients:\n",
       "                   Value    Std.Error  t-value p-value\n",
       "(Intercept) 1.971077e-06 2.670117e-07 7.381987  0.0000\n",
       "survey2     2.988188e-07 3.776115e-07 0.791339  0.4299\n",
       "survey3     8.959633e-07 3.776115e-07 2.372712  0.0189\n",
       "survey4     2.417314e-06 3.776115e-07 6.401589  0.0000\n",
       "\n",
       " Correlation: \n",
       "        (Intr) survy2 survy3\n",
       "survey2 -0.707              \n",
       "survey3 -0.707  0.500       \n",
       "survey4 -0.707  0.500  0.500\n",
       "\n",
       "Standardized residuals:\n",
       "        Min          Q1         Med          Q3         Max \n",
       "-1.72407795 -0.47611423 -0.08770083  0.32899287  6.75361780 \n",
       "\n",
       "Residual standard error: 1.434059e-06 \n",
       "Degrees of freedom: 160 total; 156 residual"
      ]
     },
     "metadata": {},
     "output_type": "display_data"
    }
   ],
   "source": [
    "a"
   ]
  },
  {
   "cell_type": "code",
   "execution_count": 41,
   "metadata": {},
   "outputs": [
    {
     "data": {
      "text/html": [
       "-57.6851381671843"
      ],
      "text/latex": [
       "-57.6851381671843"
      ],
      "text/markdown": [
       "-57.6851381671843"
      ],
      "text/plain": [
       "[1] -57.68514"
      ]
     },
     "metadata": {},
     "output_type": "display_data"
    },
    {
     "data": {
      "text/html": [
       "-57.052964572046"
      ],
      "text/latex": [
       "-57.052964572046"
      ],
      "text/markdown": [
       "-57.052964572046"
      ],
      "text/plain": [
       "[1] -57.05296"
      ]
     },
     "metadata": {},
     "output_type": "display_data"
    },
    {
     "data": {
      "text/html": [
       "-56.5012275133242"
      ],
      "text/latex": [
       "-56.5012275133242"
      ],
      "text/markdown": [
       "-56.5012275133242"
      ],
      "text/plain": [
       "[1] -56.50123"
      ]
     },
     "metadata": {},
     "output_type": "display_data"
    }
   ],
   "source": [
    "a = summary(f.Gaus)\n",
    "10*log10(a$tTable[1]-a$tTable[5])\n",
    "10*log10(a$tTable[1])\n",
    "10*log10(a$tTable[1]+a$tTable[5])"
   ]
  },
  {
   "cell_type": "code",
   "execution_count": 58,
   "metadata": {},
   "outputs": [
    {
     "data": {
      "text/html": [
       "<table>\n",
       "<caption>A matrix: 4 × 4 of type dbl</caption>\n",
       "<thead>\n",
       "\t<tr><th></th><th scope=col>Value</th><th scope=col>Std.Error</th><th scope=col>t-value</th><th scope=col>p-value</th></tr>\n",
       "</thead>\n",
       "<tbody>\n",
       "\t<tr><th scope=row>(Intercept)</th><td>1.971077e-06</td><td>2.670117e-07</td><td>7.3819871</td><td>8.742716e-12</td></tr>\n",
       "\t<tr><th scope=row>survey2</th><td>2.988188e-07</td><td>3.776115e-07</td><td>0.7913392</td><td>4.299476e-01</td></tr>\n",
       "\t<tr><th scope=row>survey3</th><td>8.959633e-07</td><td>3.776115e-07</td><td>2.3727116</td><td>1.887660e-02</td></tr>\n",
       "\t<tr><th scope=row>survey4</th><td>2.417314e-06</td><td>3.776115e-07</td><td>6.4015890</td><td>1.715673e-09</td></tr>\n",
       "</tbody>\n",
       "</table>\n"
      ],
      "text/latex": [
       "A matrix: 4 × 4 of type dbl\n",
       "\\begin{tabular}{r|llll}\n",
       "  & Value & Std.Error & t-value & p-value\\\\\n",
       "\\hline\n",
       "\t(Intercept) & 1.971077e-06 & 2.670117e-07 & 7.3819871 & 8.742716e-12\\\\\n",
       "\tsurvey2 & 2.988188e-07 & 3.776115e-07 & 0.7913392 & 4.299476e-01\\\\\n",
       "\tsurvey3 & 8.959633e-07 & 3.776115e-07 & 2.3727116 & 1.887660e-02\\\\\n",
       "\tsurvey4 & 2.417314e-06 & 3.776115e-07 & 6.4015890 & 1.715673e-09\\\\\n",
       "\\end{tabular}\n"
      ],
      "text/markdown": [
       "\n",
       "A matrix: 4 × 4 of type dbl\n",
       "\n",
       "| <!--/--> | Value | Std.Error | t-value | p-value |\n",
       "|---|---|---|---|---|\n",
       "| (Intercept) | 1.971077e-06 | 2.670117e-07 | 7.3819871 | 8.742716e-12 |\n",
       "| survey2 | 2.988188e-07 | 3.776115e-07 | 0.7913392 | 4.299476e-01 |\n",
       "| survey3 | 8.959633e-07 | 3.776115e-07 | 2.3727116 | 1.887660e-02 |\n",
       "| survey4 | 2.417314e-06 | 3.776115e-07 | 6.4015890 | 1.715673e-09 |\n",
       "\n"
      ],
      "text/plain": [
       "            Value        Std.Error    t-value   p-value     \n",
       "(Intercept) 1.971077e-06 2.670117e-07 7.3819871 8.742716e-12\n",
       "survey2     2.988188e-07 3.776115e-07 0.7913392 4.299476e-01\n",
       "survey3     8.959633e-07 3.776115e-07 2.3727116 1.887660e-02\n",
       "survey4     2.417314e-06 3.776115e-07 6.4015890 1.715673e-09"
      ]
     },
     "metadata": {},
     "output_type": "display_data"
    }
   ],
   "source": [
    "a$tTable"
   ]
  },
  {
   "cell_type": "code",
   "execution_count": 73,
   "metadata": {},
   "outputs": [
    {
     "data": {
      "text/html": [
       "-57.6851381671843"
      ],
      "text/latex": [
       "-57.6851381671843"
      ],
      "text/markdown": [
       "-57.6851381671843"
      ],
      "text/plain": [
       "[1] -57.68514"
      ]
     },
     "metadata": {},
     "output_type": "display_data"
    },
    {
     "data": {
      "text/html": [
       "-57.052964572046"
      ],
      "text/latex": [
       "-57.052964572046"
      ],
      "text/markdown": [
       "-57.052964572046"
      ],
      "text/plain": [
       "[1] -57.05296"
      ]
     },
     "metadata": {},
     "output_type": "display_data"
    },
    {
     "data": {
      "text/html": [
       "-56.5012275133242"
      ],
      "text/latex": [
       "-56.5012275133242"
      ],
      "text/markdown": [
       "-56.5012275133242"
      ],
      "text/plain": [
       "[1] -56.50123"
      ]
     },
     "metadata": {},
     "output_type": "display_data"
    },
    {
     "name": "stderr",
     "output_type": "stream",
     "text": [
      "Warning message in eval(expr, envir, enclos):\n",
      "\"NaNs produced\""
     ]
    },
    {
     "data": {
      "text/html": [
       "NaN"
      ],
      "text/latex": [
       "NaN"
      ],
      "text/markdown": [
       "NaN"
      ],
      "text/plain": [
       "[1] NaN"
      ]
     },
     "metadata": {},
     "output_type": "display_data"
    },
    {
     "data": {
      "text/html": [
       "-65.2459206500861"
      ],
      "text/latex": [
       "-65.2459206500861"
      ],
      "text/markdown": [
       "-65.2459206500861"
      ],
      "text/plain": [
       "[1] -65.24592"
      ]
     },
     "metadata": {},
     "output_type": "display_data"
    },
    {
     "data": {
      "text/html": [
       "-61.6977691450361"
      ],
      "text/latex": [
       "-61.6977691450361"
      ],
      "text/markdown": [
       "-61.6977691450361"
      ],
      "text/plain": [
       "[1] -61.69777"
      ]
     },
     "metadata": {},
     "output_type": "display_data"
    },
    {
     "data": {
      "text/html": [
       "-62.8537542642652"
      ],
      "text/latex": [
       "-62.8537542642652"
      ],
      "text/markdown": [
       "-62.8537542642652"
      ],
      "text/plain": [
       "[1] -62.85375"
      ]
     },
     "metadata": {},
     "output_type": "display_data"
    },
    {
     "data": {
      "text/html": [
       "-60.4770978241401"
      ],
      "text/latex": [
       "-60.4770978241401"
      ],
      "text/markdown": [
       "-60.4770978241401"
      ],
      "text/plain": [
       "[1] -60.4771"
      ]
     },
     "metadata": {},
     "output_type": "display_data"
    },
    {
     "data": {
      "text/html": [
       "-58.9497553194852"
      ],
      "text/latex": [
       "-58.9497553194852"
      ],
      "text/markdown": [
       "-58.9497553194852"
      ],
      "text/plain": [
       "[1] -58.94976"
      ]
     },
     "metadata": {},
     "output_type": "display_data"
    },
    {
     "data": {
      "text/html": [
       "-56.9043321090571"
      ],
      "text/latex": [
       "-56.9043321090571"
      ],
      "text/markdown": [
       "-56.9043321090571"
      ],
      "text/plain": [
       "[1] -56.90433"
      ]
     },
     "metadata": {},
     "output_type": "display_data"
    },
    {
     "data": {
      "text/html": [
       "-56.1666695882366"
      ],
      "text/latex": [
       "-56.1666695882366"
      ],
      "text/markdown": [
       "-56.1666695882366"
      ],
      "text/plain": [
       "[1] -56.16667"
      ]
     },
     "metadata": {},
     "output_type": "display_data"
    },
    {
     "data": {
      "text/html": [
       "-55.5362978057808"
      ],
      "text/latex": [
       "-55.5362978057808"
      ],
      "text/markdown": [
       "-55.5362978057808"
      ],
      "text/plain": [
       "[1] -55.5363"
      ]
     },
     "metadata": {},
     "output_type": "display_data"
    }
   ],
   "source": [
    "10*log10(a$tTable[1]-a$tTable[5])\n",
    "10*log10(a$tTable[1])\n",
    "10*log10(a$tTable[1]+a$tTable[5])\n",
    "\n",
    "10*log10(a$tTable[2]-a$tTable[6])\n",
    "10*log10(a$tTable[2])\n",
    "10*log10(a$tTable[2]+a$tTable[6])\n",
    "\n",
    "10*log10(a$tTable[3]-a$tTable[7])\n",
    "10*log10(a$tTable[3])\n",
    "10*log10(a$tTable[3]+a$tTable[7])\n",
    "\n",
    "10*log10(a$tTable[4]-a$tTable[8])\n",
    "10*log10(a$tTable[4])\n",
    "10*log10(a$tTable[4]+a$tTable[8])"
   ]
  },
  {
   "cell_type": "code",
   "execution_count": 101,
   "metadata": {},
   "outputs": [
    {
     "data": {
      "text/html": [
       "<table>\n",
       "<caption>A data.frame: 48 × 3</caption>\n",
       "<thead>\n",
       "\t<tr><th></th><th scope=col>datetime</th><th scope=col>jd</th><th scope=col>ts</th></tr>\n",
       "\t<tr><th></th><th scope=col>&lt;fct&gt;</th><th scope=col>&lt;int&gt;</th><th scope=col>&lt;dbl&gt;</th></tr>\n",
       "</thead>\n",
       "<tbody>\n",
       "\t<tr><th scope=row>1</th><td>2018-07-20</td><td>201</td><td>1.174369e-06</td></tr>\n",
       "\t<tr><th scope=row>2</th><td>2018-07-21</td><td>202</td><td>1.693815e-06</td></tr>\n",
       "\t<tr><th scope=row>3</th><td>2018-07-22</td><td>203</td><td>1.939942e-06</td></tr>\n",
       "\t<tr><th scope=row>4</th><td>2018-07-23</td><td>204</td><td>1.892163e-06</td></tr>\n",
       "\t<tr><th scope=row>5</th><td>2018-07-24</td><td>205</td><td>9.978109e-07</td></tr>\n",
       "\t<tr><th scope=row>6</th><td>2018-07-25</td><td>206</td><td>1.776776e-06</td></tr>\n",
       "\t<tr><th scope=row>7</th><td>2018-07-26</td><td>207</td><td>9.090731e-07</td></tr>\n",
       "\t<tr><th scope=row>8</th><td>2018-07-27</td><td>208</td><td>1.614922e-06</td></tr>\n",
       "\t<tr><th scope=row>9</th><td>2018-07-28</td><td>209</td><td>1.086244e-06</td></tr>\n",
       "\t<tr><th scope=row>10</th><td>2018-07-29</td><td>210</td><td>1.769355e-06</td></tr>\n",
       "\t<tr><th scope=row>11</th><td>2018-07-30</td><td>211</td><td>1.715087e-06</td></tr>\n",
       "\t<tr><th scope=row>12</th><td>2018-07-31</td><td>212</td><td>1.507108e-06</td></tr>\n",
       "\t<tr><th scope=row>13</th><td>2018-08-01</td><td>213</td><td>1.460712e-06</td></tr>\n",
       "\t<tr><th scope=row>14</th><td>2018-08-02</td><td>214</td><td>2.357637e-06</td></tr>\n",
       "\t<tr><th scope=row>15</th><td>2018-08-03</td><td>215</td><td>2.521536e-06</td></tr>\n",
       "\t<tr><th scope=row>16</th><td>2018-08-04</td><td>216</td><td>2.083361e-06</td></tr>\n",
       "\t<tr><th scope=row>17</th><td>2018-08-05</td><td>217</td><td>1.987851e-06</td></tr>\n",
       "\t<tr><th scope=row>18</th><td>2018-08-06</td><td>218</td><td>2.041773e-06</td></tr>\n",
       "\t<tr><th scope=row>19</th><td>2018-08-07</td><td>219</td><td>3.131161e-06</td></tr>\n",
       "\t<tr><th scope=row>20</th><td>2018-08-08</td><td>220</td><td>3.205187e-06</td></tr>\n",
       "\t<tr><th scope=row>21</th><td>2018-08-09</td><td>221</td><td>2.604975e-06</td></tr>\n",
       "\t<tr><th scope=row>22</th><td>2018-08-10</td><td>222</td><td>2.350926e-06</td></tr>\n",
       "\t<tr><th scope=row>23</th><td>2018-08-11</td><td>223</td><td>2.900505e-06</td></tr>\n",
       "\t<tr><th scope=row>24</th><td>2018-08-12</td><td>224</td><td>1.687535e-06</td></tr>\n",
       "\t<tr><th scope=row>25</th><td>2018-08-13</td><td>225</td><td>2.681555e-06</td></tr>\n",
       "\t<tr><th scope=row>26</th><td>2018-08-14</td><td>226</td><td>2.327980e-06</td></tr>\n",
       "\t<tr><th scope=row>27</th><td>2018-08-15</td><td>227</td><td>2.240655e-06</td></tr>\n",
       "\t<tr><th scope=row>28</th><td>2018-08-16</td><td>228</td><td>2.863124e-06</td></tr>\n",
       "\t<tr><th scope=row>34</th><td>2018-08-22</td><td>234</td><td>3.264270e-06</td></tr>\n",
       "\t<tr><th scope=row>35</th><td>2018-08-23</td><td>235</td><td>2.445043e-06</td></tr>\n",
       "\t<tr><th scope=row>36</th><td>2018-08-24</td><td>236</td><td>2.997047e-06</td></tr>\n",
       "\t<tr><th scope=row>37</th><td>2018-08-25</td><td>237</td><td>3.507144e-06</td></tr>\n",
       "\t<tr><th scope=row>38</th><td>2018-08-26</td><td>238</td><td>4.597971e-06</td></tr>\n",
       "\t<tr><th scope=row>39</th><td>2018-08-27</td><td>239</td><td>4.774425e-06</td></tr>\n",
       "\t<tr><th scope=row>40</th><td>2018-08-28</td><td>240</td><td>1.419757e-06</td></tr>\n",
       "\t<tr><th scope=row>42</th><td>2018-08-30</td><td>242</td><td>2.898542e-06</td></tr>\n",
       "\t<tr><th scope=row>43</th><td>2018-08-31</td><td>243</td><td>2.499548e-06</td></tr>\n",
       "\t<tr><th scope=row>44</th><td>2018-09-01</td><td>244</td><td>2.631028e-06</td></tr>\n",
       "\t<tr><th scope=row>45</th><td>2018-09-02</td><td>245</td><td>4.668442e-06</td></tr>\n",
       "\t<tr><th scope=row>46</th><td>2018-09-03</td><td>246</td><td>2.025653e-06</td></tr>\n",
       "\t<tr><th scope=row>47</th><td>2018-09-04</td><td>247</td><td>2.887439e-06</td></tr>\n",
       "\t<tr><th scope=row>48</th><td>2018-09-05</td><td>248</td><td>6.238574e-06</td></tr>\n",
       "\t<tr><th scope=row>49</th><td>2018-09-06</td><td>249</td><td>3.943596e-06</td></tr>\n",
       "\t<tr><th scope=row>50</th><td>2018-09-07</td><td>250</td><td>5.795043e-06</td></tr>\n",
       "\t<tr><th scope=row>51</th><td>2018-09-08</td><td>251</td><td>2.630699e-06</td></tr>\n",
       "\t<tr><th scope=row>52</th><td>2018-09-09</td><td>252</td><td>2.822024e-06</td></tr>\n",
       "\t<tr><th scope=row>53</th><td>2018-09-10</td><td>253</td><td>2.487299e-06</td></tr>\n",
       "\t<tr><th scope=row>54</th><td>2018-09-11</td><td>254</td><td>3.909002e-06</td></tr>\n",
       "</tbody>\n",
       "</table>\n"
      ],
      "text/latex": [
       "A data.frame: 48 × 3\n",
       "\\begin{tabular}{r|lll}\n",
       "  & datetime & jd & ts\\\\\n",
       "  & <fct> & <int> & <dbl>\\\\\n",
       "\\hline\n",
       "\t1 & 2018-07-20 & 201 & 1.174369e-06\\\\\n",
       "\t2 & 2018-07-21 & 202 & 1.693815e-06\\\\\n",
       "\t3 & 2018-07-22 & 203 & 1.939942e-06\\\\\n",
       "\t4 & 2018-07-23 & 204 & 1.892163e-06\\\\\n",
       "\t5 & 2018-07-24 & 205 & 9.978109e-07\\\\\n",
       "\t6 & 2018-07-25 & 206 & 1.776776e-06\\\\\n",
       "\t7 & 2018-07-26 & 207 & 9.090731e-07\\\\\n",
       "\t8 & 2018-07-27 & 208 & 1.614922e-06\\\\\n",
       "\t9 & 2018-07-28 & 209 & 1.086244e-06\\\\\n",
       "\t10 & 2018-07-29 & 210 & 1.769355e-06\\\\\n",
       "\t11 & 2018-07-30 & 211 & 1.715087e-06\\\\\n",
       "\t12 & 2018-07-31 & 212 & 1.507108e-06\\\\\n",
       "\t13 & 2018-08-01 & 213 & 1.460712e-06\\\\\n",
       "\t14 & 2018-08-02 & 214 & 2.357637e-06\\\\\n",
       "\t15 & 2018-08-03 & 215 & 2.521536e-06\\\\\n",
       "\t16 & 2018-08-04 & 216 & 2.083361e-06\\\\\n",
       "\t17 & 2018-08-05 & 217 & 1.987851e-06\\\\\n",
       "\t18 & 2018-08-06 & 218 & 2.041773e-06\\\\\n",
       "\t19 & 2018-08-07 & 219 & 3.131161e-06\\\\\n",
       "\t20 & 2018-08-08 & 220 & 3.205187e-06\\\\\n",
       "\t21 & 2018-08-09 & 221 & 2.604975e-06\\\\\n",
       "\t22 & 2018-08-10 & 222 & 2.350926e-06\\\\\n",
       "\t23 & 2018-08-11 & 223 & 2.900505e-06\\\\\n",
       "\t24 & 2018-08-12 & 224 & 1.687535e-06\\\\\n",
       "\t25 & 2018-08-13 & 225 & 2.681555e-06\\\\\n",
       "\t26 & 2018-08-14 & 226 & 2.327980e-06\\\\\n",
       "\t27 & 2018-08-15 & 227 & 2.240655e-06\\\\\n",
       "\t28 & 2018-08-16 & 228 & 2.863124e-06\\\\\n",
       "\t34 & 2018-08-22 & 234 & 3.264270e-06\\\\\n",
       "\t35 & 2018-08-23 & 235 & 2.445043e-06\\\\\n",
       "\t36 & 2018-08-24 & 236 & 2.997047e-06\\\\\n",
       "\t37 & 2018-08-25 & 237 & 3.507144e-06\\\\\n",
       "\t38 & 2018-08-26 & 238 & 4.597971e-06\\\\\n",
       "\t39 & 2018-08-27 & 239 & 4.774425e-06\\\\\n",
       "\t40 & 2018-08-28 & 240 & 1.419757e-06\\\\\n",
       "\t42 & 2018-08-30 & 242 & 2.898542e-06\\\\\n",
       "\t43 & 2018-08-31 & 243 & 2.499548e-06\\\\\n",
       "\t44 & 2018-09-01 & 244 & 2.631028e-06\\\\\n",
       "\t45 & 2018-09-02 & 245 & 4.668442e-06\\\\\n",
       "\t46 & 2018-09-03 & 246 & 2.025653e-06\\\\\n",
       "\t47 & 2018-09-04 & 247 & 2.887439e-06\\\\\n",
       "\t48 & 2018-09-05 & 248 & 6.238574e-06\\\\\n",
       "\t49 & 2018-09-06 & 249 & 3.943596e-06\\\\\n",
       "\t50 & 2018-09-07 & 250 & 5.795043e-06\\\\\n",
       "\t51 & 2018-09-08 & 251 & 2.630699e-06\\\\\n",
       "\t52 & 2018-09-09 & 252 & 2.822024e-06\\\\\n",
       "\t53 & 2018-09-10 & 253 & 2.487299e-06\\\\\n",
       "\t54 & 2018-09-11 & 254 & 3.909002e-06\\\\\n",
       "\\end{tabular}\n"
      ],
      "text/markdown": [
       "\n",
       "A data.frame: 48 × 3\n",
       "\n",
       "| <!--/--> | datetime &lt;fct&gt; | jd &lt;int&gt; | ts &lt;dbl&gt; |\n",
       "|---|---|---|---|\n",
       "| 1 | 2018-07-20 | 201 | 1.174369e-06 |\n",
       "| 2 | 2018-07-21 | 202 | 1.693815e-06 |\n",
       "| 3 | 2018-07-22 | 203 | 1.939942e-06 |\n",
       "| 4 | 2018-07-23 | 204 | 1.892163e-06 |\n",
       "| 5 | 2018-07-24 | 205 | 9.978109e-07 |\n",
       "| 6 | 2018-07-25 | 206 | 1.776776e-06 |\n",
       "| 7 | 2018-07-26 | 207 | 9.090731e-07 |\n",
       "| 8 | 2018-07-27 | 208 | 1.614922e-06 |\n",
       "| 9 | 2018-07-28 | 209 | 1.086244e-06 |\n",
       "| 10 | 2018-07-29 | 210 | 1.769355e-06 |\n",
       "| 11 | 2018-07-30 | 211 | 1.715087e-06 |\n",
       "| 12 | 2018-07-31 | 212 | 1.507108e-06 |\n",
       "| 13 | 2018-08-01 | 213 | 1.460712e-06 |\n",
       "| 14 | 2018-08-02 | 214 | 2.357637e-06 |\n",
       "| 15 | 2018-08-03 | 215 | 2.521536e-06 |\n",
       "| 16 | 2018-08-04 | 216 | 2.083361e-06 |\n",
       "| 17 | 2018-08-05 | 217 | 1.987851e-06 |\n",
       "| 18 | 2018-08-06 | 218 | 2.041773e-06 |\n",
       "| 19 | 2018-08-07 | 219 | 3.131161e-06 |\n",
       "| 20 | 2018-08-08 | 220 | 3.205187e-06 |\n",
       "| 21 | 2018-08-09 | 221 | 2.604975e-06 |\n",
       "| 22 | 2018-08-10 | 222 | 2.350926e-06 |\n",
       "| 23 | 2018-08-11 | 223 | 2.900505e-06 |\n",
       "| 24 | 2018-08-12 | 224 | 1.687535e-06 |\n",
       "| 25 | 2018-08-13 | 225 | 2.681555e-06 |\n",
       "| 26 | 2018-08-14 | 226 | 2.327980e-06 |\n",
       "| 27 | 2018-08-15 | 227 | 2.240655e-06 |\n",
       "| 28 | 2018-08-16 | 228 | 2.863124e-06 |\n",
       "| 34 | 2018-08-22 | 234 | 3.264270e-06 |\n",
       "| 35 | 2018-08-23 | 235 | 2.445043e-06 |\n",
       "| 36 | 2018-08-24 | 236 | 2.997047e-06 |\n",
       "| 37 | 2018-08-25 | 237 | 3.507144e-06 |\n",
       "| 38 | 2018-08-26 | 238 | 4.597971e-06 |\n",
       "| 39 | 2018-08-27 | 239 | 4.774425e-06 |\n",
       "| 40 | 2018-08-28 | 240 | 1.419757e-06 |\n",
       "| 42 | 2018-08-30 | 242 | 2.898542e-06 |\n",
       "| 43 | 2018-08-31 | 243 | 2.499548e-06 |\n",
       "| 44 | 2018-09-01 | 244 | 2.631028e-06 |\n",
       "| 45 | 2018-09-02 | 245 | 4.668442e-06 |\n",
       "| 46 | 2018-09-03 | 246 | 2.025653e-06 |\n",
       "| 47 | 2018-09-04 | 247 | 2.887439e-06 |\n",
       "| 48 | 2018-09-05 | 248 | 6.238574e-06 |\n",
       "| 49 | 2018-09-06 | 249 | 3.943596e-06 |\n",
       "| 50 | 2018-09-07 | 250 | 5.795043e-06 |\n",
       "| 51 | 2018-09-08 | 251 | 2.630699e-06 |\n",
       "| 52 | 2018-09-09 | 252 | 2.822024e-06 |\n",
       "| 53 | 2018-09-10 | 253 | 2.487299e-06 |\n",
       "| 54 | 2018-09-11 | 254 | 3.909002e-06 |\n",
       "\n"
      ],
      "text/plain": [
       "   datetime   jd  ts          \n",
       "1  2018-07-20 201 1.174369e-06\n",
       "2  2018-07-21 202 1.693815e-06\n",
       "3  2018-07-22 203 1.939942e-06\n",
       "4  2018-07-23 204 1.892163e-06\n",
       "5  2018-07-24 205 9.978109e-07\n",
       "6  2018-07-25 206 1.776776e-06\n",
       "7  2018-07-26 207 9.090731e-07\n",
       "8  2018-07-27 208 1.614922e-06\n",
       "9  2018-07-28 209 1.086244e-06\n",
       "10 2018-07-29 210 1.769355e-06\n",
       "11 2018-07-30 211 1.715087e-06\n",
       "12 2018-07-31 212 1.507108e-06\n",
       "13 2018-08-01 213 1.460712e-06\n",
       "14 2018-08-02 214 2.357637e-06\n",
       "15 2018-08-03 215 2.521536e-06\n",
       "16 2018-08-04 216 2.083361e-06\n",
       "17 2018-08-05 217 1.987851e-06\n",
       "18 2018-08-06 218 2.041773e-06\n",
       "19 2018-08-07 219 3.131161e-06\n",
       "20 2018-08-08 220 3.205187e-06\n",
       "21 2018-08-09 221 2.604975e-06\n",
       "22 2018-08-10 222 2.350926e-06\n",
       "23 2018-08-11 223 2.900505e-06\n",
       "24 2018-08-12 224 1.687535e-06\n",
       "25 2018-08-13 225 2.681555e-06\n",
       "26 2018-08-14 226 2.327980e-06\n",
       "27 2018-08-15 227 2.240655e-06\n",
       "28 2018-08-16 228 2.863124e-06\n",
       "34 2018-08-22 234 3.264270e-06\n",
       "35 2018-08-23 235 2.445043e-06\n",
       "36 2018-08-24 236 2.997047e-06\n",
       "37 2018-08-25 237 3.507144e-06\n",
       "38 2018-08-26 238 4.597971e-06\n",
       "39 2018-08-27 239 4.774425e-06\n",
       "40 2018-08-28 240 1.419757e-06\n",
       "42 2018-08-30 242 2.898542e-06\n",
       "43 2018-08-31 243 2.499548e-06\n",
       "44 2018-09-01 244 2.631028e-06\n",
       "45 2018-09-02 245 4.668442e-06\n",
       "46 2018-09-03 246 2.025653e-06\n",
       "47 2018-09-04 247 2.887439e-06\n",
       "48 2018-09-05 248 6.238574e-06\n",
       "49 2018-09-06 249 3.943596e-06\n",
       "50 2018-09-07 250 5.795043e-06\n",
       "51 2018-09-08 251 2.630699e-06\n",
       "52 2018-09-09 252 2.822024e-06\n",
       "53 2018-09-10 253 2.487299e-06\n",
       "54 2018-09-11 254 3.909002e-06"
      ]
     },
     "metadata": {},
     "output_type": "display_data"
    }
   ],
   "source": [
    "df<-read.csv('processingFiles/test1.csv')\n",
    "df <- df[complete.cases(df),]\n",
    "df"
   ]
  },
  {
   "cell_type": "code",
   "execution_count": 102,
   "metadata": {},
   "outputs": [
    {
     "name": "stderr",
     "output_type": "stream",
     "text": [
      "Warning message:\n",
      "\"package 'dplyr' was built under R version 3.6.3\"\n",
      "Attaching package: 'dplyr'\n",
      "\n",
      "The following object is masked from 'package:nlme':\n",
      "\n",
      "    collapse\n",
      "\n",
      "The following objects are masked from 'package:stats':\n",
      "\n",
      "    filter, lag\n",
      "\n",
      "The following objects are masked from 'package:base':\n",
      "\n",
      "    intersect, setdiff, setequal, union\n",
      "\n"
     ]
    },
    {
     "data": {
      "text/plain": [
       "Generalized least squares fit by REML\n",
       "  Model: ts ~ jd \n",
       "  Data: df \n",
       "        AIC       BIC   logLik\n",
       "  -1131.576 -1124.262 569.7882\n",
       "\n",
       "Correlation Structure: Continuous AR(1)\n",
       " Formula: ~jd \n",
       " Parameter estimate(s):\n",
       "       Phi \n",
       "0.03107265 \n",
       "\n",
       "Coefficients:\n",
       "                    Value    Std.Error   t-value p-value\n",
       "(Intercept) -8.032127e-06 1.807802e-06 -4.443036   1e-04\n",
       "jd           4.687800e-08 7.947500e-09  5.898416   0e+00\n",
       "\n",
       " Correlation: \n",
       "   (Intr)\n",
       "jd -0.997\n",
       "\n",
       "Standardized residuals:\n",
       "        Min          Q1         Med          Q3         Max \n",
       "-2.05525045 -0.62762782 -0.04385478  0.40994183  3.02224325 \n",
       "\n",
       "Residual standard error: 8.751948e-07 \n",
       "Degrees of freedom: 48 total; 46 residual"
      ]
     },
     "metadata": {},
     "output_type": "display_data"
    }
   ],
   "source": [
    "library(nlme)\n",
    "library(mgcv)\n",
    "library(dplyr)\n",
    "mod1<-gls(ts ~ jd, data=df, correl = corCAR1(form = ~jd)) # whether I use the survey as cetegorical or continuous\n",
    "summary(mod1)"
   ]
  },
  {
   "cell_type": "code",
   "execution_count": 119,
   "metadata": {},
   "outputs": [
    {
     "data": {
      "text/plain": [
       "Approximate 95% confidence intervals\n",
       "\n",
       " Coefficients:\n",
       "                    lower          est.         upper\n",
       "(Intercept) -1.167104e-05 -8.032127e-06 -4.393211e-06\n",
       "jd           3.088015e-08  4.687762e-08  6.287510e-08\n",
       "attr(,\"label\")\n",
       "[1] \"Coefficients:\"\n",
       "\n",
       " Correlation structure:\n",
       "           lower       est.     upper\n",
       "Phi 1.047127e-06 0.03107265 0.9989829\n",
       "attr(,\"label\")\n",
       "[1] \"Correlation structure:\"\n",
       "\n",
       " Residual standard error:\n",
       "       lower         est.        upper \n",
       "7.126010e-07 8.751948e-07 1.074888e-06 "
      ]
     },
     "metadata": {},
     "output_type": "display_data"
    }
   ],
   "source": [
    "intervals(mod1)"
   ]
  },
  {
   "cell_type": "code",
   "execution_count": 124,
   "metadata": {},
   "outputs": [
    {
     "data": {
      "image/png": "[encoded data removed]",
      "text/plain": [
       "plot without title"
      ]
     },
     "metadata": {},
     "output_type": "display_data"
    }
   ],
   "source": [
    "plot(10*log10(mod1$fitted))"
   ]
  }
 ],
 "metadata": {
  "kernelspec": {
   "display_name": "R",
   "language": "R",
   "name": "ir"
  },
  "language_info": {
   "codemirror_mode": "r",
   "file_extension": ".r",
   "mimetype": "text/x-r-source",
   "name": "R",
   "pygments_lexer": "r",
   "version": "3.6.1"
  }
 },
 "nbformat": 4,
 "nbformat_minor": 4
}
