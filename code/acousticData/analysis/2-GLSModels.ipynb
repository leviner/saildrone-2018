{
 "cells": [
  {
   "cell_type": "markdown",
   "metadata": {},
   "source": [
    "# Index Day/Night - Run in python\n",
    "This only needs to be done once"
   ]
  },
  {
   "cell_type": "code",
   "execution_count": 1,
   "metadata": {},
   "outputs": [],
   "source": [
    "import pandas as pd\n",
    "import matplotlib.pyplot as plt\n",
    "from mpl_toolkits import mplot3d\n",
    "import numpy as np\n",
    "import cmocean\n",
    "import warnings\n",
    "from matplotlib import rcParams\n",
    "from mpl_toolkits.axes_grid1 import make_axes_locatable\n",
    "warnings.filterwarnings('ignore')\n",
    "#Pickled acoustic data\n",
    "df1022 = pd.read_pickle('processingFiles/df1022.pkl')\n",
    "df1023 = pd.read_pickle('processingFiles/df1023.pkl')\n",
    "dfMLS1 = pd.read_pickle('processingFiles/dfMLS1.pkl')\n",
    "dfMLS2 = pd.read_pickle('processingFiles/dfMLS2.pkl')\n",
    "dfMLS3 = pd.read_pickle('processingFiles/dfMLS3.pkl')\n",
    "dfMLS4 = pd.read_pickle('processingFiles/dfMLS4.pkl')\n",
    "# ENV data files\n",
    "dfEnv1022 = pd.read_csv('processingFiles/Env1022.csv')\n",
    "dfEnv1022.dtime = pd.to_datetime(dfEnv1022.dtime)\n",
    "dfEnv1023 = pd.read_csv('processingFiles/Env1023.csv')\n",
    "dfEnv1023.dtime = pd.to_datetime(dfEnv1023.dtime)\n",
    "def combineEnvAcoustic(dfEnv, dfAcoustic):\n",
    "    dfEnv.dtime = pd.to_datetime(dfEnv.dtime)\n",
    "    dfEnv = dfEnv.sort_values('dtime')\n",
    "    dfEnv = dfEnv.set_index('dtime')\n",
    "\n",
    "    dfAcoustic = dfAcoustic.sort_values('datetime')\n",
    "    dfAcoustic = dfAcoustic.set_index('datetime')\n",
    "\n",
    "    df = dfEnv.reindex(dfAcoustic.index, method='nearest')\n",
    "    df = df.merge(dfAcoustic,on='datetime')\n",
    "    return df\n",
    "df1022All= combineEnvAcoustic(dfEnv1022, df1022)\n",
    "df1023All= combineEnvAcoustic(dfEnv1023, df1023)\n",
    "dfSurvey1All = df1022All[(df1022All.index > '07-20-2018') & (df1022All.index < '08-21-2018') ]\n",
    "dfSurvey1All.name = 'First Complete Survey'\n",
    "\n",
    "df1023CS2 = df1023All[(df1023All.index > '08-24-2018 15:00:00') & (df1023All.index < '09-07-2018')]\n",
    "df1022CS2 = df1022All[(df1022All.index > '08-25-2018') & (df1022All.index < '09-11-2018 22:00:00') ]\n",
    "dfSurvey2All = pd.concat([df1023CS2, df1022CS2])\n",
    "dfSurvey2All.name = 'Second Complete Survey'\n",
    "dfEnvMLS1 = dfEnv1023[(dfEnv1023.dtime > '07-20-2018 20:00:00') & (dfEnv1023.dtime < '08-04-2018 00:00:00')]\n",
    "dfEnvMLS1.name = 'MLS-1'\n",
    "dfEnvMLS2 = dfEnv1022[(dfEnv1022.dtime > '07-23-2018 20:00:00') & (dfEnv1022.dtime < '08-13-2018 00:00:00')]\n",
    "dfEnvMLS2.name = 'MLS-2'\n",
    "dfEnvMLS3 = pd.concat([dfEnv1023[(dfEnv1023.dtime > '08-13-2018 15:00:00') & (dfEnv1023.dtime < '08-16-2018 20:00:00')], dfEnv1022[(dfEnv1022.dtime > '08-22-2018 00:00:00') & (dfEnv1022.dtime < '08-29-2018 00:00:00')]])\n",
    "dfEnvMLS3.name = 'MLS-3'\n",
    "dfEnvMLS4 = dfEnv1023[(dfEnv1023.dtime > '08-30-2018 20:00:00') & (dfEnv1023.dtime < '09-11-2018 17:00:00')]\n",
    "dfEnvMLS4.name = 'MLS-4'\n",
    "\n",
    "\n",
    "df1022All= combineEnvAcoustic(dfEnvMLS1, dfMLS1)\n",
    "test = df1022All.resample('H').mean()\n",
    "test['day'] =  test.par > 10\n",
    "test['survey'] = [1 for i in range(len(test))]\n",
    "csvMLS1 = test[['mwd','day','survey']]\n",
    "csvMLS1['hour'] = [i for i in range(len(csvMLS1))]\n",
    "df1022All= combineEnvAcoustic(dfEnvMLS2, dfMLS2)\n",
    "test = df1022All.resample('H').mean()\n",
    "test['day'] =  test.par > 10\n",
    "test['survey'] = [2 for i in range(len(test))]\n",
    "csvMLS2 = test[['mwd','day','survey']]\n",
    "csvMLS2['hour'] = [i for i in range(len(csvMLS2))]\n",
    "df1022All= combineEnvAcoustic(dfEnvMLS3, dfMLS3)\n",
    "test = df1022All.resample('H').mean()\n",
    "test['day'] =  test.par > 10\n",
    "test['survey'] = [3 for i in range(len(test))]\n",
    "csvMLS3 = test[['mwd','day','survey']]\n",
    "csvMLS3['hour'] = [i for i in range(len(csvMLS3))]\n",
    "df1022All= combineEnvAcoustic(dfEnvMLS4, dfMLS4)\n",
    "test = df1022All.resample('H').mean()\n",
    "test['day'] =  test.par > 10\n",
    "test['survey'] = [4 for i in range(len(test))]\n",
    "csvMLS4 = test[['mwd','day','survey']]\n",
    "csvMLS4['hour'] = [i for i in range(len(csvMLS4))]\n",
    "                   \n",
    "csvAll = pd.concat([csvMLS1,csvMLS2,csvMLS3,csvMLS4])\n",
    "csvAll['julian']= csvAll.index.to_julian_date() \n",
    "csvAll.julian = csvAll.julian-pd.to_datetime('2017-12-31').to_julian_date()\n",
    "csvAll.day = csvAll.day.astype(int)\n",
    "csvAll.julian = csvAll.julian.astype(float)\n",
    "csvAll.to_csv('processingFiles/daynight.csv')"
   ]
  },
  {
   "cell_type": "markdown",
   "metadata": {},
   "source": [
    "# Switch to R"
   ]
  },
  {
   "cell_type": "code",
   "execution_count": 1,
   "metadata": {},
   "outputs": [
    {
     "name": "stderr",
     "output_type": "stream",
     "text": [
      "Warning message:\n",
      "\"package 'nlme' was built under R version 3.6.3\"Warning message:\n",
      "\"package 'mgcv' was built under R version 3.6.3\"This is mgcv 1.8-32. For overview type 'help(\"mgcv-package\")'.\n",
      "Warning message:\n",
      "\"package 'dplyr' was built under R version 3.6.3\"\n",
      "Attaching package: 'dplyr'\n",
      "\n",
      "The following object is masked from 'package:nlme':\n",
      "\n",
      "    collapse\n",
      "\n",
      "The following objects are masked from 'package:stats':\n",
      "\n",
      "    filter, lag\n",
      "\n",
      "The following objects are masked from 'package:base':\n",
      "\n",
      "    intersect, setdiff, setequal, union\n",
      "\n"
     ]
    },
    {
     "data": {
      "text/plain": [
       "Generalized least squares fit by REML\n",
       "  Model: mwd ~ day * julian \n",
       "  Data: df2 \n",
       "      AIC      BIC   logLik\n",
       "  5067.24 5096.973 -2527.62\n",
       "\n",
       "Correlation Structure: Continuous AR(1)\n",
       " Formula: ~julian \n",
       " Parameter estimate(s):\n",
       "      Phi \n",
       "0.1060106 \n",
       "\n",
       "Coefficients:\n",
       "                 Value Std.Error   t-value p-value\n",
       "(Intercept) -14.509072 12.712467 -1.141326  0.2540\n",
       "day          -9.126326  4.196104 -2.174952  0.0299\n",
       "julian        0.154855  0.055644  2.782981  0.0055\n",
       "day:julian    0.045896  0.018375  2.497812  0.0126\n",
       "\n",
       " Correlation: \n",
       "           (Intr) day    julian\n",
       "day        -0.247              \n",
       "julian     -0.997  0.244       \n",
       "day:julian  0.244 -0.997 -0.242\n",
       "\n",
       "Standardized residuals:\n",
       "        Min          Q1         Med          Q3         Max \n",
       "-2.29881488 -0.65086763  0.04191786  0.61434303  3.21111194 \n",
       "\n",
       "Residual standard error: 6.41467 \n",
       "Degrees of freedom: 1053 total; 1049 residual"
      ]
     },
     "metadata": {},
     "output_type": "display_data"
    }
   ],
   "source": [
    "df<-read.csv('processingFiles/daynight.csv')\n",
    "df <- df[complete.cases(df),]\n",
    "library(nlme)\n",
    "library(mgcv)\n",
    "library(dplyr)\n",
    "df2 = distinct(df,julian,.keep_all=TRUE)\n",
    "mod1<-gls(mwd ~ day*julian, data=df2, correl = corCAR1(form = ~julian)) # whether I use the survey as cetegorical or continuous\n",
    "summary(mod1)"
   ]
  },
  {
   "cell_type": "markdown",
   "metadata": {},
   "source": [
    "# Spatial model - back to python\n",
    "This only needs to be done once to make csv versions of the dataframes for use in R."
   ]
  },
  {
   "cell_type": "code",
   "execution_count": 1,
   "metadata": {},
   "outputs": [],
   "source": [
    "import pandas as pd\n",
    "df = pd.read_pickle('processingFiles/dfMLS1Grid.pkl')\n",
    "df.to_csv('processingFiles/MLS1Grid.csv')\n",
    "df = pd.read_pickle('processingFiles/dfMLS2Grid.pkl')\n",
    "df.to_csv('processingFiles/MLS2Grid.csv')\n",
    "df = pd.read_pickle('processingFiles/dfMLS3Grid.pkl')\n",
    "df.to_csv('processingFiles/MLS3Grid.csv')\n",
    "df = pd.read_pickle('processingFiles/dfMLS4Grid.pkl')\n",
    "df.to_csv('processingFiles/MLS4Grid.csv')\n",
    "df = pd.read_pickle('processingFiles/dfS1Grid.pkl')\n",
    "df.to_csv('processingFiles/S1Grid.csv')\n",
    "df = pd.read_pickle('processingFiles/dfS2Grid.pkl')\n",
    "df.to_csv('processingFiles/S2Grid.csv')\n"
   ]
  },
  {
   "cell_type": "markdown",
   "metadata": {},
   "source": [
    "## R part"
   ]
  },
  {
   "cell_type": "code",
   "execution_count": 1,
   "metadata": {},
   "outputs": [
    {
     "name": "stderr",
     "output_type": "stream",
     "text": [
      "Warning message:\n",
      "\"package 'nlme' was built under R version 3.6.3\"Warning message:\n",
      "\"package 'mgcv' was built under R version 3.6.3\"This is mgcv 1.8-32. For overview type 'help(\"mgcv-package\")'.\n"
     ]
    }
   ],
   "source": [
    "library(nlme)\n",
    "library(mgcv)\n",
    "library(mapproj)\n",
    "library(sp)\n",
    "# Read in all of the csv files and combine into small survey and big survey dataframes\n",
    "df1<-read.csv('processingFiles/MLS1Grid.csv')\n",
    "df1$survey=factor(1)\n",
    "df2<-read.csv('processingFiles/MLS2Grid.csv')\n",
    "df2$survey=factor(2)\n",
    "df3<-read.csv('processingFiles/MLS3Grid.csv')\n",
    "df3$survey=factor(3)\n",
    "df4<-read.csv('processingFiles/MLS4Grid.csv')\n",
    "df4$survey=factor(4)\n",
    "dfAllSmall <- rbind(df1, df2,df3,df4)\n",
    "df1<-read.csv('processingFiles/S1Grid.csv')\n",
    "df1$survey=factor(1)\n",
    "df2<-read.csv('processingFiles/S2Grid.csv')\n",
    "df2$survey=factor(2)\n",
    "dfAllLarge <- rbind(df1, df2)"
   ]
  },
  {
   "cell_type": "code",
   "execution_count": 3,
   "metadata": {},
   "outputs": [
    {
     "data": {
      "text/plain": [
       "Generalized least squares fit by REML\n",
       "  Model: nasc ~ survey \n",
       "  Data: dfAll \n",
       "       AIC      BIC    logLik\n",
       "  2742.455 2759.214 -1366.227\n",
       "\n",
       "Correlation Structure: Gaussian spatial correlation\n",
       " Formula: ~x + y | survey \n",
       " Parameter estimate(s):\n",
       "      range      nugget \n",
       "0.006317752 0.183455260 \n",
       "\n",
       "Coefficients:\n",
       "                Value Std.Error  t-value p-value\n",
       "(Intercept) 144.31036  37.37241 3.861414  0.0001\n",
       "survey2      44.68904  50.54258 0.884186  0.3776\n",
       "\n",
       " Correlation: \n",
       "        (Intr)\n",
       "survey2 -0.739\n",
       "\n",
       "Standardized residuals:\n",
       "       Min         Q1        Med         Q3        Max \n",
       "-0.8960460 -0.6296562 -0.3677490  0.4097582  5.2994832 \n",
       "\n",
       "Residual standard error: 202.1092 \n",
       "Degrees of freedom: 213 total; 211 residual"
      ]
     },
     "metadata": {},
     "output_type": "display_data"
    },
    {
     "data": {
      "image/png": "[encoded data removed]",
      "text/plain": [
       "plot without title"
      ]
     },
     "metadata": {},
     "output_type": "display_data"
    }
   ],
   "source": [
    "# Let's fit a model for the large scale survey\n",
    "dfAll <- dfAllLarge\n",
    "f.lm <- lm(nasc ~ survey, data=dfAll)\n",
    "x <- mapproject(dfAll$lonC, dfAll$latC, \"albers\", param=c(min(dfAll$latC), max(dfAll$latC)))\n",
    "dfAll$x <- x$x\n",
    "dfAll$y <- x$y\n",
    "f.Gaus <-gls(nasc ~ survey, data=dfAll, correl=corGaus(form= ~ x+y | survey, nugget=T))\n",
    "summary(f.Gaus)\n",
    "plot(Variogram(f.Gaus))"
   ]
  },
  {
   "cell_type": "code",
   "execution_count": 6,
   "metadata": {},
   "outputs": [
    {
     "data": {
      "text/plain": [
       "Generalized least squares fit by REML\n",
       "  Model: nasc ~ survey \n",
       "  Data: dfAll \n",
       "       AIC      BIC  logLik\n",
       "  2753.799 2776.992 -1369.9\n",
       "\n",
       "Correlation Structure: Gaussian spatial correlation\n",
       " Formula: ~x + y | survey \n",
       " Parameter estimate(s):\n",
       "      range      nugget \n",
       "0.004882934 0.133734959 \n",
       "\n",
       "Coefficients:\n",
       "                Value Std.Error   t-value p-value\n",
       "(Intercept) 197.59450  53.76396  3.675222  0.0003\n",
       "survey2     -20.22359  76.68587 -0.263720  0.7923\n",
       "survey3      84.01316  79.94474  1.050890  0.2946\n",
       "survey4     172.43467  80.34524  2.146172  0.0330\n",
       "\n",
       " Correlation: \n",
       "        (Intr) survy2 survy3\n",
       "survey2 -0.701              \n",
       "survey3 -0.673  0.471       \n",
       "survey4 -0.669  0.469  0.450\n",
       "\n",
       "Standardized residuals:\n",
       "       Min         Q1        Med         Q3        Max \n",
       "-1.3105109 -0.6045354 -0.2688712  0.5383665  3.4828091 \n",
       "\n",
       "Residual standard error: 255.5537 \n",
       "Degrees of freedom: 207 total; 203 residual"
      ]
     },
     "metadata": {},
     "output_type": "display_data"
    },
    {
     "data": {
      "text/html": [
       "<table>\n",
       "<caption>A anova.lme: 2 × 3</caption>\n",
       "<thead>\n",
       "\t<tr><th></th><th scope=col>numDF</th><th scope=col>F-value</th><th scope=col>p-value</th></tr>\n",
       "\t<tr><th></th><th scope=col>&lt;int&gt;</th><th scope=col>&lt;dbl&gt;</th><th scope=col>&lt;dbl&gt;</th></tr>\n",
       "</thead>\n",
       "<tbody>\n",
       "\t<tr><th scope=row>(Intercept)</th><td>1</td><td>78.051057</td><td>4.782569e-16</td></tr>\n",
       "\t<tr><th scope=row>survey</th><td>3</td><td> 2.347006</td><td>7.387992e-02</td></tr>\n",
       "</tbody>\n",
       "</table>\n"
      ],
      "text/latex": [
       "A anova.lme: 2 × 3\n",
       "\\begin{tabular}{r|lll}\n",
       "  & numDF & F-value & p-value\\\\\n",
       "  & <int> & <dbl> & <dbl>\\\\\n",
       "\\hline\n",
       "\t(Intercept) & 1 & 78.051057 & 4.782569e-16\\\\\n",
       "\tsurvey & 3 &  2.347006 & 7.387992e-02\\\\\n",
       "\\end{tabular}\n"
      ],
      "text/markdown": [
       "\n",
       "A anova.lme: 2 × 3\n",
       "\n",
       "| <!--/--> | numDF &lt;int&gt; | F-value &lt;dbl&gt; | p-value &lt;dbl&gt; |\n",
       "|---|---|---|---|\n",
       "| (Intercept) | 1 | 78.051057 | 4.782569e-16 |\n",
       "| survey | 3 |  2.347006 | 7.387992e-02 |\n",
       "\n"
      ],
      "text/plain": [
       "            numDF F-value   p-value     \n",
       "(Intercept) 1     78.051057 4.782569e-16\n",
       "survey      3      2.347006 7.387992e-02"
      ]
     },
     "metadata": {},
     "output_type": "display_data"
    },
    {
     "data": {
      "image/png": "[encoded data removed]",
      "text/plain": [
       "plot without title"
      ]
     },
     "metadata": {},
     "output_type": "display_data"
    }
   ],
   "source": [
    "# now we can fit the model for the small scale survey\n",
    "dfAll <- dfAllSmall\n",
    "f.lm <- lm(nasc ~ survey, data=dfAll)\n",
    "x <- mapproject(dfAll$lonC, dfAll$latC, \"albers\", param=c(min(dfAll$latC), max(dfAll$latC)))\n",
    "dfAll$x <- x$x\n",
    "dfAll$y <- x$y\n",
    "f.Gaus <-gls(nasc ~ survey, data=dfAll, correl=corGaus(form= ~ x+y | survey, nugget=T))\n",
    "summary(f.Gaus)\n",
    "plot(Variogram(f.Gaus))\n",
    "anova(f.Gaus)"
   ]
  }
 ],
 "metadata": {
  "kernelspec": {
   "display_name": "R",
   "language": "R",
   "name": "ir"
  },
  "language_info": {
   "codemirror_mode": "r",
   "file_extension": ".r",
   "mimetype": "text/x-r-source",
   "name": "R",
   "pygments_lexer": "r",
   "version": "3.6.1"
  }
 },
 "nbformat": 4,
 "nbformat_minor": 4
}
