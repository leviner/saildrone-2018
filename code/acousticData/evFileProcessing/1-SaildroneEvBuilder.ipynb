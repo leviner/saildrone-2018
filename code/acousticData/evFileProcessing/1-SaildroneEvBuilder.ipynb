{
 "cells": [
  {
   "cell_type": "markdown",
   "metadata": {},
   "source": [
    "# SaildroneEVBuilder: Saildrone data processing from *.raw* files\n",
    "\n",
    "This notebook goes through the process of:\n",
    "* Building EV Files\n",
    "  * Sorting raw files\n",
    "  * Building EV files from sorted raw file sets\n",
    "    * GPS filesets\n",
    "    * Exclusion Lines\n",
    "    * ST & ET Markers\n",
    "    * Define Regions\n",
    "* Exporting $s_{A}$ from EV Files\n",
    "\n",
    "The processing follows the routines established for the Eastern Bering Sea Saildrone mission established by DeRobertis and M. Levine based off WBAT processing code developed by De Robertis and R. Levine.\n",
    "\n",
    "# From raw to Macebase2\n",
    "\n",
    "As descibred in `MASTER_SD_EBS_2016_processing.m`, for each data set (i.e. SD/echosounder combo):\n",
    "1. Make EV files for scrutinizing (`make_Saildrone_EV_files.m`)\n",
    "2. Make echogram images (`make_SD_ev_images.m`)\n",
    "3. **Scrutinizing**: Check bottom and surface exclusion lines\n",
    "4. Draw regions (`DrawRegions_SD.m`)\n",
    "5. Export in Macebase2 format (`ExportEchoviewFiles_4_SD`)\n",
    "\n",
    "But before we even do that, first lets get the filesets all organized....\n",
    "\n",
    "## 0. EV FIle Data Organizing"
   ]
  },
  {
   "cell_type": "code",
   "execution_count": 1,
   "metadata": {},
   "outputs": [],
   "source": [
    "#from saildroneParams import paramsSD1022 as processParams # Each saildrone has a specific params file with \n",
    "from saildroneParams import paramsSD1023 as processParams # Each saildrone has a specific params file with \n",
    "from evFileProcessing import evFuncs # All of the EV file/COM functions are organized in EvFuncs.py within two classes"
   ]
  },
  {
   "cell_type": "markdown",
   "metadata": {},
   "source": [
    "### .raw files \n",
    "\n",
    "We'll read all of the raw files and based on the values defined in the parameters file, organize them into sets of files by size that will determine the number of EV files to make"
   ]
  },
  {
   "cell_type": "code",
   "execution_count": 2,
   "metadata": {},
   "outputs": [
    {
     "name": "stdout",
     "output_type": "stream",
     "text": [
      "Found 5966 .raw files \n",
      "First Wakeup: D20180618-T184913\n",
      "Last Wakeup: D20181005-T191202\n",
      "Total deployment: 98 days \n",
      "Mission days for EV files: 4\n",
      "Grouping results in 5 EV files \n",
      "We skipped  5775 raw files\n"
     ]
    }
   ],
   "source": [
    "rawFileGroups= evFuncs.evFiles.evRawFileSorter(processParams)"
   ]
  },
  {
   "cell_type": "markdown",
   "metadata": {},
   "source": [
    "### GPS files\n",
    "\n",
    "Because the saildrone raw files do not contain the GPS data, there is a separate fileset in csv format that we need to also group into appropriate filegroups in a list to provide to Echoview along with each raw filegroup\n",
    "\n",
    "There are 4 ways that a gps file could fit with a raw file group.  Lets think of it like this:\n",
    "\n",
    "| Scenario                       |          |               |          |       |          |             |        |\n",
    "|--------------------------------|----------|---------------|----------|-------|----------|-------------|--------|\n",
    "|                                |          | StartRawGroup | >>>>>    | >>>>> | >>>>>    | EndRawGroup |        |\n",
    "| 1 - Starts before, ends within | startGPS | >>>>>         | endGPS   |       |          |             |        |\n",
    "| 2 - Starts within, ends within |          |               | startGPS | >>>>> | endGPS   |             |        |\n",
    "| 3 - Starts within, ends after  |          |               |          |       | startGPS | >>>>>       | endGPS |\n",
    "| 4 - Starts before, ends after  | startGPS | >>>>>         | >>>>>    | >>>>> | >>>>>    | >>>>>       | endGPS |"
   ]
  },
  {
   "cell_type": "code",
   "execution_count": 3,
   "metadata": {},
   "outputs": [
    {
     "name": "stdout",
     "output_type": "stream",
     "text": [
      "We have 5 GPS groupings to go with our 5 raw file groups\n"
     ]
    }
   ],
   "source": [
    "gpsFileGroups = evFuncs.evFiles.evGPSFileSorter(rawFileGroups,processParams)"
   ]
  },
  {
   "cell_type": "markdown",
   "metadata": {},
   "source": [
    "Now there should be two complete file groups:\n",
    "- `rawFileGroups`: List where each element itself is a list of `*.raw` files (sorted by date) whose summed file sizes are <= the value specified in the parameters file\n",
    "- `gpsFileGroups`: List where the *i-th* is a list of `*.gps.csv` files which bound the dates of the raw files in the *i-th* numbered group in `rawFileGroups`\n",
    "\n",
    "## 1. Make EV Files for Scrutinizing"
   ]
  },
  {
   "cell_type": "code",
   "execution_count": null,
   "metadata": {},
   "outputs": [],
   "source": [
    "# To build the ev filces:\n",
    "evFiles = evFuncs.evFiles.evBuilder(rawFileGroups,gpsFileGroups, processParams)"
   ]
  },
  {
   "cell_type": "markdown",
   "metadata": {},
   "source": [
    "## 2. Make echogram images"
   ]
  },
  {
   "cell_type": "code",
   "execution_count": null,
   "metadata": {},
   "outputs": [],
   "source": [
    "# To build the ev images:\n",
    "imageFiles = evFuncs.evFiles.evImages(rawFileGroups, processParams)"
   ]
  },
  {
   "cell_type": "markdown",
   "metadata": {},
   "source": [
    "## 3. Scrutinizing: Check bottom and surface exclusion lines\n",
    "Well, go do it already!\n",
    "\n",
    "### 3.1 I forgot to put in a variable combining the frequency response and the final sA so...\n",
    "\n",
    "I wanted to be able to look at the sA after the 200 frequency response filtering. We ended up not using this variable but it wasn't in the original template."
   ]
  },
  {
   "cell_type": "code",
   "execution_count": null,
   "metadata": {},
   "outputs": [],
   "source": [
    "from glob import glob\n",
    "import time\n",
    "import numpy as np\n",
    "evFiles = glob('../../../data/EV/EVFiles/SD1022/Reviewed/*.EV')\n",
    "#evFiles = glob('D:/AIESII/Saildrone/EV/EVFiles/SD1022/Reviewed/*.EV')\n",
    "import win32com.client\n",
    "EvApp = win32com.client.Dispatch(\"EchoviewCom.EvApplication\")\n",
    "EvApp.Minimize()\n",
    "for file in evFiles:\n",
    "    print('Working on file: '+file)\n",
    "    start = time.time()\n",
    "    EvFile = EvApp.OpenFile(file)\n",
    "    EvVar38 = EvFile.Variables.FindByName('final SD data_reduced pings')\n",
    "    EvVarNew= EvVar38.AddVariable(3)\n",
    "    EvVarNew.SetFullName(\"38 kHz Reduced w/FR Filter\")\n",
    "    frVar = EvFile.Variables.FindByName('-14 < FR < 2 dB')\n",
    "    a = EvVarNew.SetOperand(2,frVar)\n",
    "    EvFile.Save()\n",
    "    EvFile.Close()\n",
    "    print('File Saved. Total time: ' + str(int(np.floor((time.time()-start)/60)))+'m '+str(round((time.time()-start)%60))+ 's')"
   ]
  },
  {
   "cell_type": "markdown",
   "metadata": {},
   "source": [
    "### 3.2 Correcting TS in Sawada Formula Operator\n",
    "\n",
    "My original exports used a -55 TS (5cm arctic cod) for the Sawada index calculation. I wanted to update the formula to use -57.3 which corresponds to a 3.5cm arctic cod. The way to do this for the old=style EV formula operator is to replace the variable with an imported variable from a different template, in this case, a new EV file called `SD_2018_sawadaCorrection` whichonly contains 1 variable, the corrected formula."
   ]
  },
  {
   "cell_type": "code",
   "execution_count": null,
   "metadata": {},
   "outputs": [],
   "source": [
    "from glob import glob\n",
    "import time\n",
    "import numpy as np3\n",
    "evFiles = glob('../../../data/EV/EVFiles/SD1022/Reviewed/*.EV')\n",
    "#evFiles = glob('D:/AIESII/Saildrone/EV/EVFiles/SD1022/Reviewed/*.EV')\n",
    "import win32com.client\n",
    "EvApp = win32com.client.Dispatch(\"EchoviewCom.EvApplication\")\n",
    "EvApp.Minimize()\n",
    "for file in evFiles:\n",
    "    print('Working on file: '+file)\n",
    "    start = time.time()\n",
    "    EvFile = EvApp.OpenFile(file)\n",
    "    EvFile.Import('../../../data/EV/SD_2018_sawadaCorrection.EV'')\n",
    "    VarParent1 = EvFile.Variables.FindByName(\"38 kHz Sv in cell\")\n",
    "    VarChild1 = EvFile.Variables.FindByName(\"Nv threshold bitmap\")\n",
    "    VarNew = EvFile.Variables.FindByName(\"Fish per volume in cell corr\")\n",
    "    VarNew.SetOperand(1, VarParent1)\n",
    "    VarChild1.SetOperand(1, VarNew)\n",
    "    EvFile.Save()\n",
    "    EvFile.Close()\n",
    "    print('File Saved. Total time: ' + str(int(np.floor((time.time()-start)/60)))+'m '+str(round((time.time()-start)%60))+ 's')\n",
    "EvApp.Quit()"
   ]
  },
  {
   "cell_type": "markdown",
   "metadata": {},
   "source": [
    "## 4.1 Export in Macebase2 format\n",
    "\n",
    "This function has been modified to export 38 kHz at 5m, 1m vertical resolution, and sawada filtered targets, so that the file only has to be integrated once."
   ]
  },
  {
   "cell_type": "code",
   "execution_count": null,
   "metadata": {},
   "outputs": [],
   "source": [
    "# To export the ev files\n",
    "from saildroneParams import paramsSD1022 as processParams # Each saildrone has a specific params file with \n",
    "from evFileProcessing import evFuncs # All of the EV file/COM functions are organized in EvFuncs.py within two classes\n",
    "from glob import glob\n",
    "evFiles = glob('../../../data/EV/EVFiles/SD1022/Reviewed/*.EV')\n",
    "#evFiles = glob(processParams.evParams.outputDir+'*.EV')\n",
    "exportFiles = evFuncs.evFiles.evExporter(evFiles, processParams)"
   ]
  },
  {
   "cell_type": "code",
   "execution_count": null,
   "metadata": {},
   "outputs": [],
   "source": [
    "# To export the ev files\n",
    "from saildroneParams import paramsSD1023 as processParams # Each saildrone has a specific params file with \n",
    "from evFileProcessing import evFuncs # All of the EV file/COM functions are organized in EvFuncs.py within two classes\n",
    "from glob import glob\n",
    "evFiles = glob('../../../data/EV/EVFiles/SD1023/Reviewed/*.EV')\n",
    "#evFiles = glob(processParams.evParams.outputDir+'*.EV')\n",
    "exportFiles = evFuncs.evFiles.evExporter(evFiles, processParams)"
   ]
  },
  {
   "cell_type": "markdown",
   "metadata": {},
   "source": [
    "## 4.3 Export Targets\n",
    "\n",
    "To separately export targets."
   ]
  },
  {
   "cell_type": "code",
   "execution_count": 34,
   "metadata": {},
   "outputs": [
    {
     "name": "stdout",
     "output_type": "stream",
     "text": [
      "File 2 Exported. Total time: 21m 11s\n",
      "Done\n"
     ]
    },
    {
     "data": {
      "text/plain": [
       "['E:\\\\AIESII\\\\Saildrone\\\\Submission\\\\data\\\\EV\\\\EVFiles\\\\SD1023\\\\exports\\\\SingleTargetsNv-1023-5m-20180715-20180716.csv']"
      ]
     },
     "execution_count": 34,
     "metadata": {},
     "output_type": "execute_result"
    }
   ],
   "source": [
    "import win32com.client\n",
    "from glob import glob\n",
    "from saildroneParams import paramsSD1022 as processParams1022 # Each saildrone has a specific params file with \n",
    "from saildroneParams import paramsSD1023 as processParams1023 # Each saildrone has a specific params file with \n",
    "from evFileProcessing import evFuncs # All of the EV file/COM functions are organized in EvFuncs.py within two classes\n",
    "\n",
    "#evFiles1022 = glob('E:/AIESII/Saildrone/EV/EVFiles/SD1022/Reviewed/*.EV')\n",
    "#evFiles1022 = glob('D:/AIESII/Saildrone/EV/EVFiles/SD1022/Reviewed/*.EV')\n",
    "evFiles1023 = glob('../../../data/EV/EVFiles/SD1023/Reviewed/*.EV')\n",
    "\n",
    "evFuncs.evFiles.evTargetExporter([evFiles1023,processParams1023)"
   ]
  }
 ],
 "metadata": {
  "kernelspec": {
   "display_name": "Python 3",
   "language": "python",
   "name": "python3"
  },
  "language_info": {
   "codemirror_mode": {
    "name": "ipython",
    "version": 3
   },
   "file_extension": ".py",
   "mimetype": "text/x-python",
   "name": "python",
   "nbconvert_exporter": "python",
   "pygments_lexer": "ipython3",
   "version": "3.7.4"
  }
 },
 "nbformat": 4,
 "nbformat_minor": 4
}
