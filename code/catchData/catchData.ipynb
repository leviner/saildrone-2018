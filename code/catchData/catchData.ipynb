{
 "cells": [
  {
   "cell_type": "markdown",
   "metadata": {},
   "source": [
    "# HLY 1801 Catch"
   ]
  },
  {
   "cell_type": "markdown",
   "metadata": {},
   "source": [
    "- we didn't use these for the soundspeed/absorption, we used 2017 (add to methods)\n",
    "- what would the impact be on backscatter, because ranges are short and frequency is low,  if the ss varied by 10% backscatter averaged would\n",
    "\n",
    "to answer review\n",
    "- yes i agree, i used water column averages from a previous year.\n",
    "for text:\n",
    "I used values for 2017 because this is reasonable because it is relatively representative, within the context of 4 years\n",
    "- here's rationally how different it would be, and what would that mean for my abundance \n",
    "\n",
    "1. Age-0 gadids are largely retained change the title\n",
    "2. Find every place in the paper that says arctic cod and smooth it down. \n",
    "2. 40% unidentified gadids, genetic testing is being done"
   ]
  },
  {
   "cell_type": "code",
   "execution_count": 3,
   "metadata": {},
   "outputs": [],
   "source": [
    "import pandas as pd"
   ]
  },
  {
   "cell_type": "code",
   "execution_count": 5,
   "metadata": {},
   "outputs": [
    {
     "name": "stdout",
     "output_type": "stream",
     "text": [
      "Total Gadids north of 69N:  116\n",
      "Total Arctic cod north of 69N:  82 , 70.6896551724138 %\n",
      "Total Saffron cod north of 69N:  27 , 23.275862068965516 %\n"
     ]
    }
   ],
   "source": [
    "hly2018 = pd.read_csv('../../data/catchData/MethotCatch.csv')\n",
    "gAcod = len(hly2018[(hly2018.Latitude>=69) & (hly2018.Family=='Gadidae') & (hly2018.Species=='Arctic Cod')])\n",
    "gScod = len(hly2018[(hly2018.Latitude>=69) & (hly2018.Family=='Gadidae') & (hly2018.Species=='Saffron Cod')])\n",
    "gAll = len(hly2018[(hly2018.Latitude>=69) & (hly2018.Family=='Gadidae')])\n",
    "print('Total Gadids north of 69N: ',gAll)\n",
    "print('Total Arctic cod north of 69N: ',gAcod,',',(gAcod/gAll)*100,'%')\n",
    "print('Total Saffron cod north of 69N: ',gScod,',',(gScod/gAll)*100,'%')"
   ]
  },
  {
   "cell_type": "markdown",
   "metadata": {},
   "source": [
    "# 2017 and 2019 CPUE\n",
    "Number of fish per 100,000 cubic meters"
   ]
  },
  {
   "cell_type": "code",
   "execution_count": 6,
   "metadata": {},
   "outputs": [],
   "source": [
    "eventStats = pd.read_csv('../../data/catchData/AIESMarinovichEventData.csv')\n",
    "gadidRatios = pd.read_csv('../../data/catchData/eventRatios.csv')\n",
    "# fix 1 missing haul which has no genetics and all pollock\n",
    "gadidRatios = gadidRatios.append({'SURVEY':201901, 'EVENT_ID':404, 'acod':0, 'pollock':0, 'acodRatio':0,'pollockRatio':1},ignore_index=True)\n",
    "gadidRatios= gadidRatios.drop(columns=['Unnamed: 0'])\n",
    "eventStats['cpueF'] = 1/(eventStats.VOL_FILTERED/100000)\n",
    "eventStats=eventStats[['SURVEY','EVENT_ID','EQ_LONGITUDE', 'EQ_LATITUDE','VOL_FILTERED','cpueF']]\n",
    "os2017=pd.read_csv('../../data/catchData/OS201701MidwaterCatchSummary.csv')\n",
    "os2019=pd.read_csv('../../data/catchData/OS201901MidwaterCatchSummary.csv')\n",
    "catch = pd.concat([os2017,os2019])\n",
    "catch = catch.rename(columns={'CLAMS_EVENT_NUMBER':'EVENT_ID'})\n",
    "catchMerged = pd.merge(catch, eventStats, on=['SURVEY','EVENT_ID'], how='left')\n",
    "catchMerged = catchMerged[catchMerged.SPECIES_CODE<40000]\n",
    "catchMerged['cpueCatch'] = catchMerged.TOTAL_NUMBER_IN_HAUL*catchMerged.cpueF\n",
    "gadids = catchMerged[((catchMerged.SPECIES_CODE== 21725)|(catchMerged.SPECIES_CODE== 21740)|(catchMerged.SPECIES_CODE== 21744))][['SHIP','SURVEY','EVENT_ID','EQ_LONGITUDE', 'EQ_LATITUDE','SPECIES_CODE','cpueCatch']]\n",
    "nongadids = catchMerged[((catchMerged.SPECIES_CODE!= 21725)&(catchMerged.SPECIES_CODE!= 21740)&(catchMerged.SPECIES_CODE!= 21744))][['SHIP','SURVEY','EVENT_ID','EQ_LONGITUDE', 'EQ_LATITUDE','SPECIES_CODE','cpueCatch']]\n",
    "\n",
    "dsList = []\n",
    "for df in [gadids[gadids.SURVEY==201701],gadids[gadids.SURVEY==201901]]:\n",
    "    for event in df.EVENT_ID.unique():\n",
    "        for spec in [21725, 21740]:\n",
    "            ds = df[(df.EVENT_ID == event)].iloc[0][['SHIP','SURVEY','EVENT_ID','EQ_LONGITUDE','EQ_LATITUDE']]\n",
    "            tGadids = df[(df.EVENT_ID==event)&((df.SPECIES_CODE== 21725)|(df.SPECIES_CODE== 21740)|(df.SPECIES_CODE== 21744))].cpueCatch.sum()\n",
    "            if spec == 21725:\n",
    "                ds['SPECIES_CODE']= 21725\n",
    "                ds['cpueCatch']=tGadids*gadidRatios[(gadidRatios.SURVEY==df.SURVEY.unique()[0]) & (gadidRatios.EVENT_ID==event)].acodRatio.values[0]\n",
    "            elif spec == 21740:\n",
    "                ds['SPECIES_CODE']= 21740\n",
    "                ds['cpueCatch']=tGadids*gadidRatios[(gadidRatios.SURVEY==df.SURVEY.unique()[0]) & (gadidRatios.EVENT_ID==event)].pollockRatio.values[0]\n",
    "            dsList.append(ds)\n",
    "newGadids = pd.DataFrame(dsList)\n",
    "newCatch = nongadids.append(newGadids,sort=False)"
   ]
  },
  {
   "cell_type": "code",
   "execution_count": 7,
   "metadata": {},
   "outputs": [],
   "source": [
    "dsList = []\n",
    "for df in [newCatch[newCatch.SURVEY==201701],newCatch[newCatch.SURVEY==201901]]:\n",
    "    for event in df.EVENT_ID.unique(): \n",
    "        if df[(df.EVENT_ID == event) & (df.SPECIES_CODE==21725)].empty:\n",
    "            ds = df[(df.EVENT_ID == event)].iloc[0][['SHIP','SURVEY','EVENT_ID','EQ_LONGITUDE','EQ_LATITUDE']]\n",
    "            ds['propAcod']=0\n",
    "        else:\n",
    "            ds = df[(df.EVENT_ID == event)].iloc[0][['SHIP','SURVEY','EVENT_ID','EQ_LONGITUDE','EQ_LATITUDE']]\n",
    "            ds['propAcod']=df[(df.EVENT_ID == event) & (df.SPECIES_CODE==21725)].cpueCatch.values[0]/df[df.EVENT_ID == event].cpueCatch.sum()\n",
    "        dsList.append(ds)\n",
    "propAcod = pd.DataFrame(dsList)"
   ]
  },
  {
   "cell_type": "code",
   "execution_count": 8,
   "metadata": {},
   "outputs": [
    {
     "data": {
      "text/plain": [
       "(0.8546649835281178, 0.34180719489864725)"
      ]
     },
     "execution_count": 8,
     "metadata": {},
     "output_type": "execute_result"
    }
   ],
   "source": [
    "(newCatch[(newCatch.SURVEY==201701)& (newCatch.EQ_LATITUDE >69)& (newCatch.SPECIES_CODE ==21725)].cpueCatch.sum()/newCatch[(newCatch.SURVEY==201701)& (newCatch.EQ_LATITUDE >69)].cpueCatch.sum(),\\\n",
    "newCatch[(newCatch.SURVEY==201901)& (newCatch.EQ_LATITUDE >69)& (newCatch.SPECIES_CODE ==21725)].cpueCatch.sum()/newCatch[(newCatch.SURVEY==201901)& (newCatch.EQ_LATITUDE >69)].cpueCatch.sum())"
   ]
  },
  {
   "cell_type": "code",
   "execution_count": 9,
   "metadata": {},
   "outputs": [
    {
     "data": {
      "text/plain": [
       "(0.8548619686636874, 0.4554744663143731)"
      ]
     },
     "execution_count": 9,
     "metadata": {},
     "output_type": "execute_result"
    }
   ],
   "source": [
    "newCatchNoSL = newCatch[(newCatch.SPECIES_CODE != 20203) & (newCatch.SPECIES_CODE != 20204)]\n",
    "(newCatchNoSL[(newCatchNoSL.SURVEY==201701)& (newCatchNoSL.EQ_LATITUDE >69)& (newCatchNoSL.SPECIES_CODE ==21725)].cpueCatch.sum()/newCatchNoSL[(newCatchNoSL.SURVEY==201701)& (newCatchNoSL.EQ_LATITUDE >69)].cpueCatch.sum(),\\\n",
    "newCatchNoSL[(newCatchNoSL.SURVEY==201901)& (newCatchNoSL.EQ_LATITUDE >69)& (newCatchNoSL.SPECIES_CODE ==21725)].cpueCatch.sum()/newCatchNoSL[(newCatchNoSL.SURVEY==201901)& (newCatchNoSL.EQ_LATITUDE >69)].cpueCatch.sum())"
   ]
  }
 ],
 "metadata": {
  "kernelspec": {
   "display_name": "Python 3",
   "language": "python",
   "name": "python3"
  },
  "language_info": {
   "codemirror_mode": {
    "name": "ipython",
    "version": 3
   },
   "file_extension": ".py",
   "mimetype": "text/x-python",
   "name": "python",
   "nbconvert_exporter": "python",
   "pygments_lexer": "ipython3",
   "version": "3.7.4"
  }
 },
 "nbformat": 4,
 "nbformat_minor": 4
}
