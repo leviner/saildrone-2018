{
 "cells": [
  {
   "cell_type": "markdown",
   "metadata": {},
   "source": [
    "# HLY 1801 Catch"
   ]
  },
  {
   "cell_type": "markdown",
   "metadata": {},
   "source": [
    "- we didn't use these for the soundspeed/absorption, we used 2017 (add to methods)\n",
    "- what would the impact be on backscatter, because ranges are short and frequency is low,  if the ss varied by 10% backscatter averaged would\n",
    "\n",
    "to answer review\n",
    "- yes i agree, i used water column averages from a previous year.\n",
    "for text:\n",
    "I used values for 2017 because this is reasonable because it is relatively representative, within the context of 4 years\n",
    "- here's rationally how different it would be, and what would that mean for my abundance \n",
    "\n",
    "1. Age-0 gadids are largely retained change the title\n",
    "2. Find every place in the paper that says arctic cod and smooth it down. \n",
    "2. 40% unidentified gadids, genetic testing is being done"
   ]
  },
  {
   "cell_type": "code",
   "execution_count": 1,
   "metadata": {},
   "outputs": [],
   "source": [
    "import pandas as pd"
   ]
  },
  {
   "cell_type": "code",
   "execution_count": 51,
   "metadata": {},
   "outputs": [
    {
     "name": "stdout",
     "output_type": "stream",
     "text": [
      "Total Gadids north of 69N:  0.5110132158590308\n",
      "Total Arctic cod north of 69N:  82 , 36.12334801762114 %\n",
      "Total Saffron cod north of 69N:  27 , 11.894273127753303 %\n",
      "Total Pollock north of 69N:  7 , 3.0837004405286343 %\n",
      "Total Pacific cod north of 69N:  0 , 0.0 %\n",
      "Number of tows:  9\n"
     ]
    }
   ],
   "source": [
    "hly2018 = pd.read_csv('../../data/catchData/MethotCatch.csv')\n",
    "gAcod = len(hly2018[(hly2018.Latitude>=69) & (hly2018.Family=='Gadidae') & (hly2018.Species=='Arctic Cod')])\n",
    "gScod = len(hly2018[(hly2018.Latitude>=69) & (hly2018.Family=='Gadidae') & (hly2018.Species=='Saffron Cod')])\n",
    "gPol = len(hly2018[(hly2018.Latitude>=69) & (hly2018.Family=='Gadidae') & (hly2018.Species=='Pollock?')])\n",
    "gPcod = len(hly2018[(hly2018.Latitude>=69) & (hly2018.Family=='Gadidae') & (hly2018.Species=='Pacific Cod')])\n",
    "gAll = len(hly2018[(hly2018.Latitude>=69) & (hly2018.Family=='Gadidae')])\n",
    "print('Total Gadids north of 69N: ',gAll/len(hly2018[(hly2018.Latitude>=69)]))\n",
    "print('Total Arctic cod north of 69N: ',gAcod,',',(gAcod/len(hly2018[(hly2018.Latitude>=69)]))*100,'%')\n",
    "print('Total Saffron cod north of 69N: ',gScod,',',(gScod/len(hly2018[(hly2018.Latitude>=69)]))*100,'%')\n",
    "print('Total Pollock north of 69N: ',gPol,',',(gPol/len(hly2018[(hly2018.Latitude>=69)]))*100,'%')\n",
    "print('Total Pacific cod north of 69N: ',gPcod,',',(gPcod/len(hly2018[(hly2018.Latitude>=69)]))*100,'%')\n",
    "print('Number of tows: ',len(hly2018[(hly2018.Latitude>=69)].Tow.unique()))"
   ]
  },
  {
   "cell_type": "markdown",
   "metadata": {},
   "source": [
    "# 2017 and 2019 CPUE\n",
    "Number of fish per 100,000 cubic meters"
   ]
  },
  {
   "cell_type": "code",
   "execution_count": 56,
   "metadata": {},
   "outputs": [],
   "source": [
    "eventStats = pd.read_csv('../../data/catchData/AIESMarinovichEventData.csv')\n",
    "gadidRatios = pd.read_csv('../../data/catchData/eventRatios.csv')\n",
    "# fix 1 missing haul which has no genetics and all pollock\n",
    "gadidRatios = gadidRatios.append({'SURVEY':201901, 'EVENT_ID':404, 'acod':0, 'pollock':0, 'acodRatio':0,'pollockRatio':1},ignore_index=True)\n",
    "gadidRatios= gadidRatios.drop(columns=['Unnamed: 0'])\n",
    "eventStats['cpueF'] = 1/(eventStats.VOL_FILTERED/100000)\n",
    "eventStats=eventStats[['SURVEY','EVENT_ID','EQ_LONGITUDE', 'EQ_LATITUDE','VOL_FILTERED','cpueF']]\n",
    "os2017=pd.read_csv('../../data/catchData/OS201701MidwaterCatchSummary.csv')\n",
    "os2019=pd.read_csv('../../data/catchData/OS201901MidwaterCatchSummary.csv')\n",
    "catch = pd.concat([os2017,os2019])\n",
    "catch = catch.rename(columns={'CLAMS_EVENT_NUMBER':'EVENT_ID'})\n",
    "catchMerged = pd.merge(catch, eventStats, on=['SURVEY','EVENT_ID'], how='left')\n",
    "catchMerged = catchMerged[catchMerged.SPECIES_CODE<40000]\n",
    "catchMerged['cpueCatch'] = catchMerged.TOTAL_NUMBER_IN_HAUL*catchMerged.cpueF\n",
    "gadids = catchMerged[((catchMerged.SPECIES_CODE== 21725)|(catchMerged.SPECIES_CODE== 21740)|(catchMerged.SPECIES_CODE== 21744))][['SHIP','SURVEY','EVENT_ID','EQ_LONGITUDE', 'EQ_LATITUDE','SPECIES_CODE','cpueCatch']]\n",
    "nongadids = catchMerged[((catchMerged.SPECIES_CODE!= 21725)&(catchMerged.SPECIES_CODE!= 21740)&(catchMerged.SPECIES_CODE!= 21744))][['SHIP','SURVEY','EVENT_ID','EQ_LONGITUDE', 'EQ_LATITUDE','SPECIES_CODE','cpueCatch']]\n",
    "\n",
    "dsList = []\n",
    "for df in [gadids[gadids.SURVEY==201701],gadids[gadids.SURVEY==201901]]:\n",
    "    for event in df.EVENT_ID.unique():\n",
    "        for spec in [21725, 21740]:\n",
    "            ds = df[(df.EVENT_ID == event)].iloc[0][['SHIP','SURVEY','EVENT_ID','EQ_LONGITUDE','EQ_LATITUDE']]\n",
    "            tGadids = df[(df.EVENT_ID==event)&((df.SPECIES_CODE== 21725)|(df.SPECIES_CODE== 21740)|(df.SPECIES_CODE== 21744))].cpueCatch.sum()\n",
    "            if spec == 21725:\n",
    "                ds['SPECIES_CODE']= 21725\n",
    "                ds['cpueCatch']=tGadids*gadidRatios[(gadidRatios.SURVEY==df.SURVEY.unique()[0]) & (gadidRatios.EVENT_ID==event)].acodRatio.values[0]\n",
    "            elif spec == 21740:\n",
    "                ds['SPECIES_CODE']= 21740\n",
    "                ds['cpueCatch']=tGadids*gadidRatios[(gadidRatios.SURVEY==df.SURVEY.unique()[0]) & (gadidRatios.EVENT_ID==event)].pollockRatio.values[0]\n",
    "            dsList.append(ds)\n",
    "newGadids = pd.DataFrame(dsList)\n",
    "newCatch = nongadids.append(newGadids,sort=False)"
   ]
  },
  {
   "cell_type": "code",
   "execution_count": 58,
   "metadata": {},
   "outputs": [],
   "source": [
    "dsList = []\n",
    "for df in [newCatch[newCatch.SURVEY==201701],newCatch[newCatch.SURVEY==201901]]:\n",
    "    for event in df.EVENT_ID.unique(): \n",
    "        if df[(df.EVENT_ID == event) & (df.SPECIES_CODE==21725)].empty:\n",
    "            ds = df[(df.EVENT_ID == event)].iloc[0][['SHIP','SURVEY','EVENT_ID','EQ_LONGITUDE','EQ_LATITUDE']]\n",
    "            ds['propAcod']=0\n",
    "        else:\n",
    "            ds = df[(df.EVENT_ID == event)].iloc[0][['SHIP','SURVEY','EVENT_ID','EQ_LONGITUDE','EQ_LATITUDE']]\n",
    "            ds['propAcod']=df[(df.EVENT_ID == event) & (df.SPECIES_CODE==21725)].cpueCatch.values[0]/df[df.EVENT_ID == event].cpueCatch.sum()\n",
    "        dsList.append(ds)\n",
    "propAcod = pd.DataFrame(dsList)"
   ]
  },
  {
   "cell_type": "code",
   "execution_count": 70,
   "metadata": {},
   "outputs": [
    {
     "name": "stdout",
     "output_type": "stream",
     "text": [
      "2017 # tows: 28\n",
      "2019 # tows: 31\n"
     ]
    }
   ],
   "source": [
    "print('2017 # tows:',len(newCatch[(newCatch.SURVEY==201701)& (newCatch.EQ_LATITUDE >69)].EVENT_ID.unique()))\n",
    "print('2019 # tows:',len(newCatch[(newCatch.SURVEY==201901)& (newCatch.EQ_LATITUDE >69)].EVENT_ID.unique()))"
   ]
  },
  {
   "cell_type": "code",
   "execution_count": 60,
   "metadata": {},
   "outputs": [
    {
     "name": "stdout",
     "output_type": "stream",
     "text": [
      "2017 - Genetics:  0.8548619686636874 0.09787805651639392 9.739440484650274e-05 6.684863699539684e-05\n",
      "gadid sum 0.9529042682219231\n",
      "2019 - Genetics:  0.4554744663143731 0.4008699468327388 0.000735917623591869 0.0006127037208199144\n",
      "gadid sum 0.8576930344915236\n"
     ]
    }
   ],
   "source": [
    "newCatch = newCatch[(newCatch.SPECIES_CODE != 20203) & (newCatch.SPECIES_CODE != 20204)]\n",
    "print('2017 - Genetics: ',\\\n",
    "newCatch[(newCatch.SURVEY==201701)& (newCatch.EQ_LATITUDE >69)& (newCatch.SPECIES_CODE ==21725)].cpueCatch.sum()/newCatch[(newCatch.SURVEY==201701)& (newCatch.EQ_LATITUDE >69)].cpueCatch.sum(),\n",
    "newCatch[(newCatch.SURVEY==201701)& (newCatch.EQ_LATITUDE >69)& ((newCatch.SPECIES_CODE ==21744) | (newCatch.SPECIES_CODE ==21740))].cpueCatch.sum()/newCatch[(newCatch.SURVEY==201701)& (newCatch.EQ_LATITUDE >69)].cpueCatch.sum(),\n",
    "newCatch[(newCatch.SURVEY==201701)& (newCatch.EQ_LATITUDE >69)& (newCatch.SPECIES_CODE ==21735)].cpueCatch.sum()/newCatch[(newCatch.SURVEY==201701)& (newCatch.EQ_LATITUDE >69)].cpueCatch.sum(),\n",
    "newCatch[(newCatch.SURVEY==201701)& (newCatch.EQ_LATITUDE >69)& (newCatch.SPECIES_CODE ==21720)].cpueCatch.sum()/newCatch[(newCatch.SURVEY==201701)& (newCatch.EQ_LATITUDE >69)].cpueCatch.sum())\n",
    "\n",
    "print('gadid sum', sum([newCatch[(newCatch.SURVEY==201701)& (newCatch.EQ_LATITUDE >69)& (newCatch.SPECIES_CODE ==21725)].cpueCatch.sum()/newCatch[(newCatch.SURVEY==201701)& (newCatch.EQ_LATITUDE >69)].cpueCatch.sum(),\n",
    "newCatch[(newCatch.SURVEY==201701)& (newCatch.EQ_LATITUDE >69)& ((newCatch.SPECIES_CODE ==21744) | (newCatch.SPECIES_CODE ==21740))].cpueCatch.sum()/newCatch[(newCatch.SURVEY==201701)& (newCatch.EQ_LATITUDE >69)].cpueCatch.sum(),\n",
    "newCatch[(newCatch.SURVEY==201701)& (newCatch.EQ_LATITUDE >69)& (newCatch.SPECIES_CODE ==21735)].cpueCatch.sum()/newCatch[(newCatch.SURVEY==201701)& (newCatch.EQ_LATITUDE >69)].cpueCatch.sum(),\n",
    "newCatch[(newCatch.SURVEY==201701)& (newCatch.EQ_LATITUDE >69)& (newCatch.SPECIES_CODE ==21720)].cpueCatch.sum()/newCatch[(newCatch.SURVEY==201701)& (newCatch.EQ_LATITUDE >69)].cpueCatch.sum()]))\n",
    "\n",
    "\n",
    "print('2019 - Genetics: ',\\\n",
    "newCatch[(newCatch.SURVEY==201901)& (newCatch.EQ_LATITUDE >69)& (newCatch.SPECIES_CODE ==21725)].cpueCatch.sum()/newCatch[(newCatch.SURVEY==201901)& (newCatch.EQ_LATITUDE >69)].cpueCatch.sum(),\n",
    "newCatch[(newCatch.SURVEY==201901)& (newCatch.EQ_LATITUDE >69)& ((newCatch.SPECIES_CODE ==21744) | (newCatch.SPECIES_CODE ==21740))].cpueCatch.sum()/newCatch[(newCatch.SURVEY==201901)& (newCatch.EQ_LATITUDE >69)].cpueCatch.sum(),\n",
    "newCatch[(newCatch.SURVEY==201901)& (newCatch.EQ_LATITUDE >69)& (newCatch.SPECIES_CODE ==21735)].cpueCatch.sum()/newCatch[(newCatch.SURVEY==201901)& (newCatch.EQ_LATITUDE >69)].cpueCatch.sum(),\n",
    "newCatch[(newCatch.SURVEY==201901)& (newCatch.EQ_LATITUDE >69)& (newCatch.SPECIES_CODE ==21720)].cpueCatch.sum()/newCatch[(newCatch.SURVEY==201901)& (newCatch.EQ_LATITUDE >69)].cpueCatch.sum())\n",
    "\n",
    "print('gadid sum', sum([newCatch[(newCatch.SURVEY==201901)& (newCatch.EQ_LATITUDE >69)& (newCatch.SPECIES_CODE ==21725)].cpueCatch.sum()/newCatch[(newCatch.SURVEY==201901)& (newCatch.EQ_LATITUDE >69)].cpueCatch.sum(),\n",
    "newCatch[(newCatch.SURVEY==201901)& (newCatch.EQ_LATITUDE >69)& ((newCatch.SPECIES_CODE ==21744) | (newCatch.SPECIES_CODE ==21740))].cpueCatch.sum()/newCatch[(newCatch.SURVEY==201901)& (newCatch.EQ_LATITUDE >69)].cpueCatch.sum(),\n",
    "newCatch[(newCatch.SURVEY==201901)& (newCatch.EQ_LATITUDE >69)& (newCatch.SPECIES_CODE ==21735)].cpueCatch.sum()/newCatch[(newCatch.SURVEY==201901)& (newCatch.EQ_LATITUDE >69)].cpueCatch.sum(),\n",
    "newCatch[(newCatch.SURVEY==201901)& (newCatch.EQ_LATITUDE >69)& (newCatch.SPECIES_CODE ==21720)].cpueCatch.sum()/newCatch[(newCatch.SURVEY==201901)& (newCatch.EQ_LATITUDE >69)].cpueCatch.sum()]))\n"
   ]
  },
  {
   "cell_type": "code",
   "execution_count": 41,
   "metadata": {},
   "outputs": [
    {
     "name": "stdout",
     "output_type": "stream",
     "text": [
      "2017 - Uncorrected:  0.9527385465981593 1.478581921972874e-06 9.739440484650273e-05 6.684863699539683e-05\n",
      "gadid sum 0.9529042682219231\n",
      "2019 - Uncorrected:  0.7074461198623203 0.14889829328479173 0.0007359176235918691 0.0006127037208199145\n",
      "gadid sum 0.8576930344915238\n"
     ]
    }
   ],
   "source": [
    "newCatch = nongadids.append(gadids,sort=False)\n",
    "newCatch = newCatch[(newCatch.SPECIES_CODE != 20203) & (newCatch.SPECIES_CODE != 20204)]\n",
    "print('2017 - Uncorrected: ',\\\n",
    "newCatch[(newCatch.SURVEY==201701)& (newCatch.EQ_LATITUDE >69)& (newCatch.SPECIES_CODE ==21725)].cpueCatch.sum()/newCatch[(newCatch.SURVEY==201701)& (newCatch.EQ_LATITUDE >69)].cpueCatch.sum(),\n",
    "newCatch[(newCatch.SURVEY==201701)& (newCatch.EQ_LATITUDE >69)& ((newCatch.SPECIES_CODE ==21744) | (newCatch.SPECIES_CODE ==21740))].cpueCatch.sum()/newCatch[(newCatch.SURVEY==201701)& (newCatch.EQ_LATITUDE >69)].cpueCatch.sum(),\n",
    "newCatch[(newCatch.SURVEY==201701)& (newCatch.EQ_LATITUDE >69)& (newCatch.SPECIES_CODE ==21735)].cpueCatch.sum()/newCatch[(newCatch.SURVEY==201701)& (newCatch.EQ_LATITUDE >69)].cpueCatch.sum(),\n",
    "newCatch[(newCatch.SURVEY==201701)& (newCatch.EQ_LATITUDE >69)& (newCatch.SPECIES_CODE ==21720)].cpueCatch.sum()/newCatch[(newCatch.SURVEY==201701)& (newCatch.EQ_LATITUDE >69)].cpueCatch.sum())\n",
    "\n",
    "print('gadid sum', sum([newCatch[(newCatch.SURVEY==201701)& (newCatch.EQ_LATITUDE >69)& (newCatch.SPECIES_CODE ==21725)].cpueCatch.sum()/newCatch[(newCatch.SURVEY==201701)& (newCatch.EQ_LATITUDE >69)].cpueCatch.sum(),\n",
    "newCatch[(newCatch.SURVEY==201701)& (newCatch.EQ_LATITUDE >69)& ((newCatch.SPECIES_CODE ==21744) | (newCatch.SPECIES_CODE ==21740))].cpueCatch.sum()/newCatch[(newCatch.SURVEY==201701)& (newCatch.EQ_LATITUDE >69)].cpueCatch.sum(),\n",
    "newCatch[(newCatch.SURVEY==201701)& (newCatch.EQ_LATITUDE >69)& (newCatch.SPECIES_CODE ==21735)].cpueCatch.sum()/newCatch[(newCatch.SURVEY==201701)& (newCatch.EQ_LATITUDE >69)].cpueCatch.sum(),\n",
    "newCatch[(newCatch.SURVEY==201701)& (newCatch.EQ_LATITUDE >69)& (newCatch.SPECIES_CODE ==21720)].cpueCatch.sum()/newCatch[(newCatch.SURVEY==201701)& (newCatch.EQ_LATITUDE >69)].cpueCatch.sum()]))\n",
    "\n",
    "print('2019 - Uncorrected: ',\\\n",
    "newCatch[(newCatch.SURVEY==201901)& (newCatch.EQ_LATITUDE >69)& (newCatch.SPECIES_CODE ==21725)].cpueCatch.sum()/newCatch[(newCatch.SURVEY==201901)& (newCatch.EQ_LATITUDE >69)].cpueCatch.sum(),\n",
    "newCatch[(newCatch.SURVEY==201901)& (newCatch.EQ_LATITUDE >69)& ((newCatch.SPECIES_CODE ==21744) | (newCatch.SPECIES_CODE ==21740))].cpueCatch.sum()/newCatch[(newCatch.SURVEY==201901)& (newCatch.EQ_LATITUDE >69)].cpueCatch.sum(),\n",
    "newCatch[(newCatch.SURVEY==201901)& (newCatch.EQ_LATITUDE >69)& (newCatch.SPECIES_CODE ==21735)].cpueCatch.sum()/newCatch[(newCatch.SURVEY==201901)& (newCatch.EQ_LATITUDE >69)].cpueCatch.sum(),\n",
    "newCatch[(newCatch.SURVEY==201901)& (newCatch.EQ_LATITUDE >69)& (newCatch.SPECIES_CODE ==21720)].cpueCatch.sum()/newCatch[(newCatch.SURVEY==201901)& (newCatch.EQ_LATITUDE >69)].cpueCatch.sum())\n",
    "\n",
    "print('gadid sum',sum([newCatch[(newCatch.SURVEY==201901)& (newCatch.EQ_LATITUDE >69)& (newCatch.SPECIES_CODE ==21725)].cpueCatch.sum()/newCatch[(newCatch.SURVEY==201901)& (newCatch.EQ_LATITUDE >69)].cpueCatch.sum(),\n",
    "newCatch[(newCatch.SURVEY==201901)& (newCatch.EQ_LATITUDE >69)& ((newCatch.SPECIES_CODE ==21744) | (newCatch.SPECIES_CODE ==21740))].cpueCatch.sum()/newCatch[(newCatch.SURVEY==201901)& (newCatch.EQ_LATITUDE >69)].cpueCatch.sum(),\n",
    "newCatch[(newCatch.SURVEY==201901)& (newCatch.EQ_LATITUDE >69)& (newCatch.SPECIES_CODE ==21735)].cpueCatch.sum()/newCatch[(newCatch.SURVEY==201901)& (newCatch.EQ_LATITUDE >69)].cpueCatch.sum(),\n",
    "newCatch[(newCatch.SURVEY==201901)& (newCatch.EQ_LATITUDE >69)& (newCatch.SPECIES_CODE ==21720)].cpueCatch.sum()/newCatch[(newCatch.SURVEY==201901)& (newCatch.EQ_LATITUDE >69)].cpueCatch.sum()]))"
   ]
  },
  {
   "cell_type": "markdown",
   "metadata": {},
   "source": [
    "### In a table:\n",
    "\n",
    "|Survey|# Tows|A.Cod|Pollock|S.Cod|PCod|% Gadids|\n",
    "|---|---|---|---|---|---|---|\n",
    "|2017|28 |95.2 |<1 |<1 |<1 |95.3 |\n",
    "|2017 - Genetics|28 |85.4 |9.7 |<1 |<1 |95.3 |\n",
    "|2018| 9 | 36.1|3.1 | 11.9| 0| 51.1|\n",
    "|2019|31 | 70.7|14.9|<1 |<1 |85.7 |\n",
    "|2019 - Genetics|31 |45.5 |40.0 |<1 |<1 |85.7|"
   ]
  }
 ],
 "metadata": {
  "kernelspec": {
   "display_name": "Python 3",
   "language": "python",
   "name": "python3"
  },
  "language_info": {
   "codemirror_mode": {
    "name": "ipython",
    "version": 3
   },
   "file_extension": ".py",
   "mimetype": "text/x-python",
   "name": "python",
   "nbconvert_exporter": "python",
   "pygments_lexer": "ipython3",
   "version": "3.7.4"
  }
 },
 "nbformat": 4,
 "nbformat_minor": 4
}
